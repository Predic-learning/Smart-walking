{
  "nbformat": 4,
  "nbformat_minor": 0,
  "metadata": {
    "colab": {
      "provenance": [],
      "mount_file_id": "1ShW558FPo9D_0RiJUPhxTDnqhI884hKo",
      "authorship_tag": "ABX9TyMYMr3J/WwJMBJluOGtTHmH",
      "include_colab_link": true
    },
    "kernelspec": {
      "name": "python3",
      "display_name": "Python 3"
    },
    "language_info": {
      "name": "python"
    }
  },
  "cells": [
    {
      "cell_type": "markdown",
      "metadata": {
        "id": "view-in-github",
        "colab_type": "text"
      },
      "source": [
        "<a href=\"https://colab.research.google.com/github/Predic-learning/Smart-walking/blob/main/testAcc.ipynb\" target=\"_parent\"><img src=\"https://colab.research.google.com/assets/colab-badge.svg\" alt=\"Open In Colab\"/></a>"
      ]
    },
    {
      "cell_type": "code",
      "execution_count": null,
      "metadata": {
        "id": "XpA8-z5oUJWf"
      },
      "outputs": [],
      "source": [
        "import numpy as np\n",
        "import pandas as pd"
      ]
    },
    {
      "cell_type": "code",
      "source": [
        "import matplotlib.pyplot as plt\n",
        "import seaborn as sns\n",
        "import scipy\n",
        "import re\n",
        "import missingno as mso\n",
        "from scipy import stats\n",
        "from scipy.stats import ttest_ind\n",
        "from scipy.stats import pearsonr\n",
        "from sklearn.preprocessing import StandardScaler,LabelEncoder\n",
        "from sklearn.model_selection import train_test_split\n",
        "from sklearn.neighbors import KNeighborsClassifier\n",
        "from sklearn.svm import SVC\n",
        "from sklearn.ensemble import GradientBoostingClassifier\n",
        "from xgboost import XGBClassifier\n",
        "from sklearn.metrics import accuracy_score,confusion_matrix,classification_report"
      ],
      "metadata": {
        "id": "jasMeCsPUWXn"
      },
      "execution_count": null,
      "outputs": []
    },
    {
      "cell_type": "code",
      "source": [
        "data = pd.read_csv('/content/drive/MyDrive/Weather/Smart_walker_detect.csv')\n",
        "data.head()"
      ],
      "metadata": {
        "colab": {
          "base_uri": "https://localhost:8080/",
          "height": 337
        },
        "id": "_rggCVDyUavy",
        "outputId": "32dd4187-e87e-4e19-a7f4-8059e0f31227"
      },
      "execution_count": null,
      "outputs": [
        {
          "output_type": "execute_result",
          "data": {
            "text/plain": [
              "                  date  AccX  AccY   AccZ  GyrX  GyrY  GyrZ  Temperature  \\\n",
              "0  23/1/2023, 21:55:46   132  -284  20228  -488    -3    60        30.37   \n",
              "1  23/1/2023, 21:55:47   240   -92  19784  -489   -92    61        30.41   \n",
              "2  23/1/2023, 21:55:48   200  -140  19928  -481   -69    35        30.41   \n",
              "3  23/1/2023, 21:55:49   108   -44  20004  -498   -67    55        30.41   \n",
              "4  23/1/2023, 21:55:50   304    12  20044  -469   -39    77        30.55   \n",
              "\n",
              "   Fall_detection  \n",
              "0               0  \n",
              "1               0  \n",
              "2               0  \n",
              "3               0  \n",
              "4               0  "
            ],
            "text/html": [
              "\n",
              "  <div id=\"df-aa69939f-c366-4388-b35a-1c651cb18b53\">\n",
              "    <div class=\"colab-df-container\">\n",
              "      <div>\n",
              "<style scoped>\n",
              "    .dataframe tbody tr th:only-of-type {\n",
              "        vertical-align: middle;\n",
              "    }\n",
              "\n",
              "    .dataframe tbody tr th {\n",
              "        vertical-align: top;\n",
              "    }\n",
              "\n",
              "    .dataframe thead th {\n",
              "        text-align: right;\n",
              "    }\n",
              "</style>\n",
              "<table border=\"1\" class=\"dataframe\">\n",
              "  <thead>\n",
              "    <tr style=\"text-align: right;\">\n",
              "      <th></th>\n",
              "      <th>date</th>\n",
              "      <th>AccX</th>\n",
              "      <th>AccY</th>\n",
              "      <th>AccZ</th>\n",
              "      <th>GyrX</th>\n",
              "      <th>GyrY</th>\n",
              "      <th>GyrZ</th>\n",
              "      <th>Temperature</th>\n",
              "      <th>Fall_detection</th>\n",
              "    </tr>\n",
              "  </thead>\n",
              "  <tbody>\n",
              "    <tr>\n",
              "      <th>0</th>\n",
              "      <td>23/1/2023, 21:55:46</td>\n",
              "      <td>132</td>\n",
              "      <td>-284</td>\n",
              "      <td>20228</td>\n",
              "      <td>-488</td>\n",
              "      <td>-3</td>\n",
              "      <td>60</td>\n",
              "      <td>30.37</td>\n",
              "      <td>0</td>\n",
              "    </tr>\n",
              "    <tr>\n",
              "      <th>1</th>\n",
              "      <td>23/1/2023, 21:55:47</td>\n",
              "      <td>240</td>\n",
              "      <td>-92</td>\n",
              "      <td>19784</td>\n",
              "      <td>-489</td>\n",
              "      <td>-92</td>\n",
              "      <td>61</td>\n",
              "      <td>30.41</td>\n",
              "      <td>0</td>\n",
              "    </tr>\n",
              "    <tr>\n",
              "      <th>2</th>\n",
              "      <td>23/1/2023, 21:55:48</td>\n",
              "      <td>200</td>\n",
              "      <td>-140</td>\n",
              "      <td>19928</td>\n",
              "      <td>-481</td>\n",
              "      <td>-69</td>\n",
              "      <td>35</td>\n",
              "      <td>30.41</td>\n",
              "      <td>0</td>\n",
              "    </tr>\n",
              "    <tr>\n",
              "      <th>3</th>\n",
              "      <td>23/1/2023, 21:55:49</td>\n",
              "      <td>108</td>\n",
              "      <td>-44</td>\n",
              "      <td>20004</td>\n",
              "      <td>-498</td>\n",
              "      <td>-67</td>\n",
              "      <td>55</td>\n",
              "      <td>30.41</td>\n",
              "      <td>0</td>\n",
              "    </tr>\n",
              "    <tr>\n",
              "      <th>4</th>\n",
              "      <td>23/1/2023, 21:55:50</td>\n",
              "      <td>304</td>\n",
              "      <td>12</td>\n",
              "      <td>20044</td>\n",
              "      <td>-469</td>\n",
              "      <td>-39</td>\n",
              "      <td>77</td>\n",
              "      <td>30.55</td>\n",
              "      <td>0</td>\n",
              "    </tr>\n",
              "  </tbody>\n",
              "</table>\n",
              "</div>\n",
              "      <button class=\"colab-df-convert\" onclick=\"convertToInteractive('df-aa69939f-c366-4388-b35a-1c651cb18b53')\"\n",
              "              title=\"Convert this dataframe to an interactive table.\"\n",
              "              style=\"display:none;\">\n",
              "        \n",
              "  <svg xmlns=\"http://www.w3.org/2000/svg\" height=\"24px\"viewBox=\"0 0 24 24\"\n",
              "       width=\"24px\">\n",
              "    <path d=\"M0 0h24v24H0V0z\" fill=\"none\"/>\n",
              "    <path d=\"M18.56 5.44l.94 2.06.94-2.06 2.06-.94-2.06-.94-.94-2.06-.94 2.06-2.06.94zm-11 1L8.5 8.5l.94-2.06 2.06-.94-2.06-.94L8.5 2.5l-.94 2.06-2.06.94zm10 10l.94 2.06.94-2.06 2.06-.94-2.06-.94-.94-2.06-.94 2.06-2.06.94z\"/><path d=\"M17.41 7.96l-1.37-1.37c-.4-.4-.92-.59-1.43-.59-.52 0-1.04.2-1.43.59L10.3 9.45l-7.72 7.72c-.78.78-.78 2.05 0 2.83L4 21.41c.39.39.9.59 1.41.59.51 0 1.02-.2 1.41-.59l7.78-7.78 2.81-2.81c.8-.78.8-2.07 0-2.86zM5.41 20L4 18.59l7.72-7.72 1.47 1.35L5.41 20z\"/>\n",
              "  </svg>\n",
              "      </button>\n",
              "      \n",
              "  <style>\n",
              "    .colab-df-container {\n",
              "      display:flex;\n",
              "      flex-wrap:wrap;\n",
              "      gap: 12px;\n",
              "    }\n",
              "\n",
              "    .colab-df-convert {\n",
              "      background-color: #E8F0FE;\n",
              "      border: none;\n",
              "      border-radius: 50%;\n",
              "      cursor: pointer;\n",
              "      display: none;\n",
              "      fill: #1967D2;\n",
              "      height: 32px;\n",
              "      padding: 0 0 0 0;\n",
              "      width: 32px;\n",
              "    }\n",
              "\n",
              "    .colab-df-convert:hover {\n",
              "      background-color: #E2EBFA;\n",
              "      box-shadow: 0px 1px 2px rgba(60, 64, 67, 0.3), 0px 1px 3px 1px rgba(60, 64, 67, 0.15);\n",
              "      fill: #174EA6;\n",
              "    }\n",
              "\n",
              "    [theme=dark] .colab-df-convert {\n",
              "      background-color: #3B4455;\n",
              "      fill: #D2E3FC;\n",
              "    }\n",
              "\n",
              "    [theme=dark] .colab-df-convert:hover {\n",
              "      background-color: #434B5C;\n",
              "      box-shadow: 0px 1px 3px 1px rgba(0, 0, 0, 0.15);\n",
              "      filter: drop-shadow(0px 1px 2px rgba(0, 0, 0, 0.3));\n",
              "      fill: #FFFFFF;\n",
              "    }\n",
              "  </style>\n",
              "\n",
              "      <script>\n",
              "        const buttonEl =\n",
              "          document.querySelector('#df-aa69939f-c366-4388-b35a-1c651cb18b53 button.colab-df-convert');\n",
              "        buttonEl.style.display =\n",
              "          google.colab.kernel.accessAllowed ? 'block' : 'none';\n",
              "\n",
              "        async function convertToInteractive(key) {\n",
              "          const element = document.querySelector('#df-aa69939f-c366-4388-b35a-1c651cb18b53');\n",
              "          const dataTable =\n",
              "            await google.colab.kernel.invokeFunction('convertToInteractive',\n",
              "                                                     [key], {});\n",
              "          if (!dataTable) return;\n",
              "\n",
              "          const docLinkHtml = 'Like what you see? Visit the ' +\n",
              "            '<a target=\"_blank\" href=https://colab.research.google.com/notebooks/data_table.ipynb>data table notebook</a>'\n",
              "            + ' to learn more about interactive tables.';\n",
              "          element.innerHTML = '';\n",
              "          dataTable['output_type'] = 'display_data';\n",
              "          await google.colab.output.renderOutput(dataTable, element);\n",
              "          const docLink = document.createElement('div');\n",
              "          docLink.innerHTML = docLinkHtml;\n",
              "          element.appendChild(docLink);\n",
              "        }\n",
              "      </script>\n",
              "    </div>\n",
              "  </div>\n",
              "  "
            ]
          },
          "metadata": {},
          "execution_count": 3
        }
      ]
    },
    {
      "cell_type": "code",
      "source": [
        "import warnings\n",
        "warnings.filterwarnings('ignore')\n",
        "sns.countplot(\"Fall_detection\",data=data,palette=\"hls\")"
      ],
      "metadata": {
        "colab": {
          "base_uri": "https://localhost:8080/",
          "height": 297
        },
        "id": "ynbxn4dwUg5J",
        "outputId": "bc0be7dc-cba6-4a2a-c332-3d00fdd55fad"
      },
      "execution_count": null,
      "outputs": [
        {
          "output_type": "execute_result",
          "data": {
            "text/plain": [
              "<AxesSubplot:xlabel='Fall_detection', ylabel='count'>"
            ]
          },
          "metadata": {},
          "execution_count": 4
        },
        {
          "output_type": "display_data",
          "data": {
            "text/plain": [
              "<Figure size 432x288 with 1 Axes>"
            ],
            "image/png": "[encoded data removed]"
          },
          "metadata": {
            "needs_background": "light"
          }
        }
      ]
    },
    {
      "cell_type": "code",
      "source": [
        "data[[\"AccX\",\"AccY\",\"AccZ\",\"GyrX\",\"GyrY\",\"GyrZ\",\"Temperature\"]].describe()"
      ],
      "metadata": {
        "colab": {
          "base_uri": "https://localhost:8080/",
          "height": 364
        },
        "id": "B4Ik6Km0UiUm",
        "outputId": "2431c9e8-c4d5-49eb-ae6f-0c481cbee255"
      },
      "execution_count": null,
      "outputs": [
        {
          "output_type": "execute_result",
          "data": {
            "text/plain": [
              "               AccX          AccY           AccZ          GyrX          GyrY  \\\n",
              "count    781.000000    781.000000     781.000000    781.000000    781.000000   \n",
              "mean      84.814341   -170.350832   19254.104994   -508.151088    -49.340589   \n",
              "std     5344.493119   4545.568200    8042.112085   1354.189746   1514.348177   \n",
              "min   -21120.000000 -21584.000000       0.000000 -10190.000000  -9760.000000   \n",
              "25%        0.000000   -284.000000   16684.000000   -496.000000   -118.000000   \n",
              "50%      232.000000   -136.000000   19904.000000   -472.000000    -68.000000   \n",
              "75%      408.000000      0.000000   20120.000000   -450.000000     -7.000000   \n",
              "max    24680.000000  19604.000000  101824.000000  11642.000000  10706.000000   \n",
              "\n",
              "              GyrZ  Temperature  \n",
              "count   781.000000   781.000000  \n",
              "mean     60.162612    30.629475  \n",
              "std     237.147845    11.829266  \n",
              "min   -2787.000000     0.000000  \n",
              "25%      43.000000    28.290000  \n",
              "50%      61.000000    30.550000  \n",
              "75%      76.000000    30.980000  \n",
              "max    2802.000000   137.050000  "
            ],
            "text/html": [
              "\n",
              "  <div id=\"df-26d65d8f-7df8-4f61-9332-c2a26727fe7b\">\n",
              "    <div class=\"colab-df-container\">\n",
              "      <div>\n",
              "<style scoped>\n",
              "    .dataframe tbody tr th:only-of-type {\n",
              "        vertical-align: middle;\n",
              "    }\n",
              "\n",
              "    .dataframe tbody tr th {\n",
              "        vertical-align: top;\n",
              "    }\n",
              "\n",
              "    .dataframe thead th {\n",
              "        text-align: right;\n",
              "    }\n",
              "</style>\n",
              "<table border=\"1\" class=\"dataframe\">\n",
              "  <thead>\n",
              "    <tr style=\"text-align: right;\">\n",
              "      <th></th>\n",
              "      <th>AccX</th>\n",
              "      <th>AccY</th>\n",
              "      <th>AccZ</th>\n",
              "      <th>GyrX</th>\n",
              "      <th>GyrY</th>\n",
              "      <th>GyrZ</th>\n",
              "      <th>Temperature</th>\n",
              "    </tr>\n",
              "  </thead>\n",
              "  <tbody>\n",
              "    <tr>\n",
              "      <th>count</th>\n",
              "      <td>781.000000</td>\n",
              "      <td>781.000000</td>\n",
              "      <td>781.000000</td>\n",
              "      <td>781.000000</td>\n",
              "      <td>781.000000</td>\n",
              "      <td>781.000000</td>\n",
              "      <td>781.000000</td>\n",
              "    </tr>\n",
              "    <tr>\n",
              "      <th>mean</th>\n",
              "      <td>84.814341</td>\n",
              "      <td>-170.350832</td>\n",
              "      <td>19254.104994</td>\n",
              "      <td>-508.151088</td>\n",
              "      <td>-49.340589</td>\n",
              "      <td>60.162612</td>\n",
              "      <td>30.629475</td>\n",
              "    </tr>\n",
              "    <tr>\n",
              "      <th>std</th>\n",
              "      <td>5344.493119</td>\n",
              "      <td>4545.568200</td>\n",
              "      <td>8042.112085</td>\n",
              "      <td>1354.189746</td>\n",
              "      <td>1514.348177</td>\n",
              "      <td>237.147845</td>\n",
              "      <td>11.829266</td>\n",
              "    </tr>\n",
              "    <tr>\n",
              "      <th>min</th>\n",
              "      <td>-21120.000000</td>\n",
              "      <td>-21584.000000</td>\n",
              "      <td>0.000000</td>\n",
              "      <td>-10190.000000</td>\n",
              "      <td>-9760.000000</td>\n",
              "      <td>-2787.000000</td>\n",
              "      <td>0.000000</td>\n",
              "    </tr>\n",
              "    <tr>\n",
              "      <th>25%</th>\n",
              "      <td>0.000000</td>\n",
              "      <td>-284.000000</td>\n",
              "      <td>16684.000000</td>\n",
              "      <td>-496.000000</td>\n",
              "      <td>-118.000000</td>\n",
              "      <td>43.000000</td>\n",
              "      <td>28.290000</td>\n",
              "    </tr>\n",
              "    <tr>\n",
              "      <th>50%</th>\n",
              "      <td>232.000000</td>\n",
              "      <td>-136.000000</td>\n",
              "      <td>19904.000000</td>\n",
              "      <td>-472.000000</td>\n",
              "      <td>-68.000000</td>\n",
              "      <td>61.000000</td>\n",
              "      <td>30.550000</td>\n",
              "    </tr>\n",
              "    <tr>\n",
              "      <th>75%</th>\n",
              "      <td>408.000000</td>\n",
              "      <td>0.000000</td>\n",
              "      <td>20120.000000</td>\n",
              "      <td>-450.000000</td>\n",
              "      <td>-7.000000</td>\n",
              "      <td>76.000000</td>\n",
              "      <td>30.980000</td>\n",
              "    </tr>\n",
              "    <tr>\n",
              "      <th>max</th>\n",
              "      <td>24680.000000</td>\n",
              "      <td>19604.000000</td>\n",
              "      <td>101824.000000</td>\n",
              "      <td>11642.000000</td>\n",
              "      <td>10706.000000</td>\n",
              "      <td>2802.000000</td>\n",
              "      <td>137.050000</td>\n",
              "    </tr>\n",
              "  </tbody>\n",
              "</table>\n",
              "</div>\n",
              "      <button class=\"colab-df-convert\" onclick=\"convertToInteractive('df-26d65d8f-7df8-4f61-9332-c2a26727fe7b')\"\n",
              "              title=\"Convert this dataframe to an interactive table.\"\n",
              "              style=\"display:none;\">\n",
              "        \n",
              "  <svg xmlns=\"http://www.w3.org/2000/svg\" height=\"24px\"viewBox=\"0 0 24 24\"\n",
              "       width=\"24px\">\n",
              "    <path d=\"M0 0h24v24H0V0z\" fill=\"none\"/>\n",
              "    <path d=\"M18.56 5.44l.94 2.06.94-2.06 2.06-.94-2.06-.94-.94-2.06-.94 2.06-2.06.94zm-11 1L8.5 8.5l.94-2.06 2.06-.94-2.06-.94L8.5 2.5l-.94 2.06-2.06.94zm10 10l.94 2.06.94-2.06 2.06-.94-2.06-.94-.94-2.06-.94 2.06-2.06.94z\"/><path d=\"M17.41 7.96l-1.37-1.37c-.4-.4-.92-.59-1.43-.59-.52 0-1.04.2-1.43.59L10.3 9.45l-7.72 7.72c-.78.78-.78 2.05 0 2.83L4 21.41c.39.39.9.59 1.41.59.51 0 1.02-.2 1.41-.59l7.78-7.78 2.81-2.81c.8-.78.8-2.07 0-2.86zM5.41 20L4 18.59l7.72-7.72 1.47 1.35L5.41 20z\"/>\n",
              "  </svg>\n",
              "      </button>\n",
              "      \n",
              "  <style>\n",
              "    .colab-df-container {\n",
              "      display:flex;\n",
              "      flex-wrap:wrap;\n",
              "      gap: 12px;\n",
              "    }\n",
              "\n",
              "    .colab-df-convert {\n",
              "      background-color: #E8F0FE;\n",
              "      border: none;\n",
              "      border-radius: 50%;\n",
              "      cursor: pointer;\n",
              "      display: none;\n",
              "      fill: #1967D2;\n",
              "      height: 32px;\n",
              "      padding: 0 0 0 0;\n",
              "      width: 32px;\n",
              "    }\n",
              "\n",
              "    .colab-df-convert:hover {\n",
              "      background-color: #E2EBFA;\n",
              "      box-shadow: 0px 1px 2px rgba(60, 64, 67, 0.3), 0px 1px 3px 1px rgba(60, 64, 67, 0.15);\n",
              "      fill: #174EA6;\n",
              "    }\n",
              "\n",
              "    [theme=dark] .colab-df-convert {\n",
              "      background-color: #3B4455;\n",
              "      fill: #D2E3FC;\n",
              "    }\n",
              "\n",
              "    [theme=dark] .colab-df-convert:hover {\n",
              "      background-color: #434B5C;\n",
              "      box-shadow: 0px 1px 3px 1px rgba(0, 0, 0, 0.15);\n",
              "      filter: drop-shadow(0px 1px 2px rgba(0, 0, 0, 0.3));\n",
              "      fill: #FFFFFF;\n",
              "    }\n",
              "  </style>\n",
              "\n",
              "      <script>\n",
              "        const buttonEl =\n",
              "          document.querySelector('#df-26d65d8f-7df8-4f61-9332-c2a26727fe7b button.colab-df-convert');\n",
              "        buttonEl.style.display =\n",
              "          google.colab.kernel.accessAllowed ? 'block' : 'none';\n",
              "\n",
              "        async function convertToInteractive(key) {\n",
              "          const element = document.querySelector('#df-26d65d8f-7df8-4f61-9332-c2a26727fe7b');\n",
              "          const dataTable =\n",
              "            await google.colab.kernel.invokeFunction('convertToInteractive',\n",
              "                                                     [key], {});\n",
              "          if (!dataTable) return;\n",
              "\n",
              "          const docLinkHtml = 'Like what you see? Visit the ' +\n",
              "            '<a target=\"_blank\" href=https://colab.research.google.com/notebooks/data_table.ipynb>data table notebook</a>'\n",
              "            + ' to learn more about interactive tables.';\n",
              "          element.innerHTML = '';\n",
              "          dataTable['output_type'] = 'display_data';\n",
              "          await google.colab.output.renderOutput(dataTable, element);\n",
              "          const docLink = document.createElement('div');\n",
              "          docLink.innerHTML = docLinkHtml;\n",
              "          element.appendChild(docLink);\n",
              "        }\n",
              "      </script>\n",
              "    </div>\n",
              "  </div>\n",
              "  "
            ]
          },
          "metadata": {},
          "execution_count": 5
        }
      ]
    },
    {
      "cell_type": "code",
      "source": [
        "df=data.drop([\"date\",\"Temperature\",\"GyrX\",\"GyrY\",\"GyrZ\"],axis=1)\n",
        "#df=data.drop([\"date\",\"Temperature\",\"AccX\",\"AccY\",\"AccZ\"],axis=1)"
      ],
      "metadata": {
        "id": "muuyXBJ6WuYG"
      },
      "execution_count": null,
      "outputs": []
    },
    {
      "cell_type": "code",
      "source": [
        "sns.set(style=\"darkgrid\")\n",
        "fig,axs=plt.subplots(1,3,figsize=(20,8))\n",
        "sns.histplot(data=df,x=\"AccX\",kde=True,ax=axs[0],color='green')\n",
        "sns.histplot(data=df,x=\"AccY\",kde=True,ax=axs[1],color='red')\n",
        "sns.histplot(data=df,x=\"AccZ\",kde=True,ax=axs[2],color='skyblue')"
      ],
      "metadata": {
        "colab": {
          "base_uri": "https://localhost:8080/",
          "height": 294
        },
        "id": "EhIWMbPpUkLn",
        "outputId": "9d916295-e7c7-497d-c0d1-b19912bb1ccb"
      },
      "execution_count": null,
      "outputs": [
        {
          "output_type": "execute_result",
          "data": {
            "text/plain": [
              "<AxesSubplot:xlabel='AccZ', ylabel='Count'>"
            ]
          },
          "metadata": {},
          "execution_count": 7
        },
        {
          "output_type": "display_data",
          "data": {
            "text/plain": [
              "<Figure size 1440x576 with 3 Axes>"
            ],
            "image/png": "[encoded data removed]"
          },
          "metadata": {}
        }
      ]
    },
    {
      "cell_type": "code",
      "source": [
        "plt.figure(figsize=(12,7))\n",
        "sns.heatmap(df.corr(),annot=True,cmap='coolwarm')"
      ],
      "metadata": {
        "colab": {
          "base_uri": "https://localhost:8080/",
          "height": 441
        },
        "id": "Rn2WA9EgU0tg",
        "outputId": "89a42070-82fe-462b-cb15-4efbac0c92a1"
      },
      "execution_count": null,
      "outputs": [
        {
          "output_type": "execute_result",
          "data": {
            "text/plain": [
              "<AxesSubplot:>"
            ]
          },
          "metadata": {},
          "execution_count": 8
        },
        {
          "output_type": "display_data",
          "data": {
            "text/plain": [
              "<Figure size 864x504 with 2 Axes>"
            ],
            "image/png": "[encoded data removed]"
          },
          "metadata": {}
        }
      ]
    },
    {
      "cell_type": "code",
      "source": [
        "x=((df.loc[:,df.columns!=\"Fall_detection\"]).astype(float)).values[:,0:]\n",
        "y=df['Fall_detection'].values.reshape(-1, 1)"
      ],
      "metadata": {
        "id": "ABn3pOwMXkst"
      },
      "execution_count": null,
      "outputs": []
    },
    {
      "cell_type": "code",
      "source": [
        "df.Fall_detection.unique()"
      ],
      "metadata": {
        "colab": {
          "base_uri": "https://localhost:8080/"
        },
        "id": "UVDCc7OOXm5g",
        "outputId": "006b49f0-8de2-409b-9045-483cc54fffe8"
      },
      "execution_count": null,
      "outputs": [
        {
          "output_type": "execute_result",
          "data": {
            "text/plain": [
              "array([0, 2, 3, 4, 1])"
            ]
          },
          "metadata": {},
          "execution_count": 10
        }
      ]
    },
    {
      "cell_type": "code",
      "source": [
        "x_train,x_test,y_train,y_test=train_test_split(x,y,test_size=0.1,random_state=2)"
      ],
      "metadata": {
        "id": "uOM4AIRRXqFD"
      },
      "execution_count": null,
      "outputs": []
    },
    {
      "cell_type": "code",
      "source": [
        "x_train.dtype,x_test.dtype,y_train.dtype,y_test.dtype"
      ],
      "metadata": {
        "colab": {
          "base_uri": "https://localhost:8080/"
        },
        "id": "X94WSi0MXsoJ",
        "outputId": "07815981-a2b9-4828-d8e7-9c35fe6ae308"
      },
      "execution_count": null,
      "outputs": [
        {
          "output_type": "execute_result",
          "data": {
            "text/plain": [
              "(dtype('float64'), dtype('float64'), dtype('int64'), dtype('int64'))"
            ]
          },
          "metadata": {},
          "execution_count": 12
        }
      ]
    },
    {
      "cell_type": "code",
      "source": [
        "knn=KNeighborsClassifier()\n",
        "knn.fit(x_train,y_train)\n",
        "print(\"KNN Accuracy:{:.2f}%\".format(knn.score(x_test,y_test)*100))"
      ],
      "metadata": {
        "colab": {
          "base_uri": "https://localhost:8080/"
        },
        "id": "uKctGZYaXu0v",
        "outputId": "4473ed86-89d6-4439-d4e6-318086de40ee"
      },
      "execution_count": null,
      "outputs": [
        {
          "output_type": "stream",
          "name": "stdout",
          "text": [
            "KNN Accuracy:96.20%\n"
          ]
        }
      ]
    },
    {
      "cell_type": "code",
      "source": [
        "svm=SVC()\n",
        "svm.fit(x_train,y_train)\n",
        "print(\"SVM Accuracy:{:.2f}%\".format(svm.score(x_test,y_test)*100))"
      ],
      "metadata": {
        "colab": {
          "base_uri": "https://localhost:8080/"
        },
        "id": "5Xyp7KpYX8TJ",
        "outputId": "000c7a18-e902-429b-999b-52eafd0f47cc"
      },
      "execution_count": null,
      "outputs": [
        {
          "output_type": "stream",
          "name": "stdout",
          "text": [
            "SVM Accuracy:88.61%\n"
          ]
        }
      ]
    },
    {
      "cell_type": "code",
      "source": [
        "gbc=GradientBoostingClassifier(subsample=0.5,n_estimators=450,max_depth=5,max_leaf_nodes=25)\n",
        "gbc.fit(x_train,y_train)\n",
        "print(\"Gradient Boosting Accuracy:{:.2f}%\".format(gbc.score(x_test,y_test)*100))"
      ],
      "metadata": {
        "colab": {
          "base_uri": "https://localhost:8080/"
        },
        "id": "j9nWZvoAX_TR",
        "outputId": "b31576de-60ff-4c88-c5cd-f064bfacc4cd"
      },
      "execution_count": null,
      "outputs": [
        {
          "output_type": "stream",
          "name": "stdout",
          "text": [
            "Gradient Boosting Accuracy:93.67%\n"
          ]
        }
      ]
    },
    {
      "cell_type": "code",
      "source": [
        "import warnings\n",
        "warnings.filterwarnings('ignore')\n",
        "xgb=XGBClassifier()\n",
        "xgb.fit(x_train,y_train)\n",
        "print(\"XGB Accuracy:{:.2f}%\".format(xgb.score(x_test,y_test)*100))"
      ],
      "metadata": {
        "colab": {
          "base_uri": "https://localhost:8080/"
        },
        "id": "zra7EoN-YCrv",
        "outputId": "99619bad-ecfb-428e-f7d2-e83593869ea2"
      },
      "execution_count": null,
      "outputs": [
        {
          "output_type": "stream",
          "name": "stdout",
          "text": [
            "XGB Accuracy:92.41%\n"
          ]
        }
      ]
    },
    {
      "cell_type": "code",
      "source": [
        "input=[[296,9256,17164]]\n",
        "ot=xgb.predict(input)\n",
        "print(\"The weather is:\")\n",
        "if(ot==0):\n",
        "    print(\"Normal\")\n",
        "elif(ot==1):\n",
        "    print(\"Fall_front\")\n",
        "elif(ot==2):\n",
        "    print(\"Fall_back\")\n",
        "elif(ot==3):\n",
        "    print(\"Fall_left\")\n",
        "else:\n",
        "    print(\"Fall_right\")"
      ],
      "metadata": {
        "colab": {
          "base_uri": "https://localhost:8080/"
        },
        "id": "5YP8AqSeYFGe",
        "outputId": "45b2809a-96bc-43aa-def4-0b5871a89e02"
      },
      "execution_count": null,
      "outputs": [
        {
          "output_type": "stream",
          "name": "stdout",
          "text": [
            "The weather is:\n",
            "Fall_left\n"
          ]
        }
      ]
    }
  ]
}