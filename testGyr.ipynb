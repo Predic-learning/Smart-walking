{
  "nbformat": 4,
  "nbformat_minor": 0,
  "metadata": {
    "colab": {
      "provenance": [],
      "mount_file_id": "1GIR_ycvchWzftvTs03Vjj2JJXPOytgzH",
      "authorship_tag": "ABX9TyOPGhfK0ly+eN7ETRhI1DqE",
      "include_colab_link": true
    },
    "kernelspec": {
      "name": "python3",
      "display_name": "Python 3"
    },
    "language_info": {
      "name": "python"
    }
  },
  "cells": [
    {
      "cell_type": "markdown",
      "metadata": {
        "id": "view-in-github",
        "colab_type": "text"
      },
      "source": [
        "<a href=\"https://colab.research.google.com/github/Predic-learning/Smart-walking/blob/main/testGyr.ipynb\" target=\"_parent\"><img src=\"https://colab.research.google.com/assets/colab-badge.svg\" alt=\"Open In Colab\"/></a>"
      ]
    },
    {
      "cell_type": "code",
      "execution_count": null,
      "metadata": {
        "id": "yLP-J3m-gAVv"
      },
      "outputs": [],
      "source": [
        "import numpy as np\n",
        "import pandas as pd"
      ]
    },
    {
      "cell_type": "code",
      "source": [
        "import matplotlib.pyplot as plt\n",
        "import seaborn as sns\n",
        "import scipy\n",
        "import re\n",
        "import missingno as mso\n",
        "from scipy import stats\n",
        "from scipy.stats import ttest_ind\n",
        "from scipy.stats import pearsonr\n",
        "from sklearn.preprocessing import StandardScaler,LabelEncoder\n",
        "from sklearn.model_selection import train_test_split\n",
        "from sklearn.neighbors import KNeighborsClassifier\n",
        "from sklearn.svm import SVC\n",
        "from sklearn.ensemble import GradientBoostingClassifier\n",
        "from xgboost import XGBClassifier\n",
        "from sklearn.metrics import accuracy_score,confusion_matrix,classification_report"
      ],
      "metadata": {
        "id": "JrROpjmzgJP8"
      },
      "execution_count": null,
      "outputs": []
    },
    {
      "cell_type": "code",
      "source": [
        "data = pd.read_csv('/content/drive/MyDrive/Weather/Smart_walker_detect.csv')\n",
        "data.head()"
      ],
      "metadata": {
        "colab": {
          "base_uri": "https://localhost:8080/",
          "height": 206
        },
        "id": "w0abBmOIgMqH",
        "outputId": "b2fb3e09-a7ca-41e7-a666-bb25845f031a"
      },
      "execution_count": null,
      "outputs": [
        {
          "output_type": "execute_result",
          "data": {
            "text/plain": [
              "                  date  AccX  AccY   AccZ  GyrX  GyrY  GyrZ  Temperature  \\\n",
              "0  23/1/2023, 21:55:46   132  -284  20228  -488    -3    60        30.37   \n",
              "1  23/1/2023, 21:55:47   240   -92  19784  -489   -92    61        30.41   \n",
              "2  23/1/2023, 21:55:48   200  -140  19928  -481   -69    35        30.41   \n",
              "3  23/1/2023, 21:55:49   108   -44  20004  -498   -67    55        30.41   \n",
              "4  23/1/2023, 21:55:50   304    12  20044  -469   -39    77        30.55   \n",
              "\n",
              "   Fall_detection  \n",
              "0               0  \n",
              "1               0  \n",
              "2               0  \n",
              "3               0  \n",
              "4               0  "
            ],
            "text/html": [
              "\n",
              "  <div id=\"df-d363bcdc-3272-4e41-8d2b-e3d2bacfd8c7\">\n",
              "    <div class=\"colab-df-container\">\n",
              "      <div>\n",
              "<style scoped>\n",
              "    .dataframe tbody tr th:only-of-type {\n",
              "        vertical-align: middle;\n",
              "    }\n",
              "\n",
              "    .dataframe tbody tr th {\n",
              "        vertical-align: top;\n",
              "    }\n",
              "\n",
              "    .dataframe thead th {\n",
              "        text-align: right;\n",
              "    }\n",
              "</style>\n",
              "<table border=\"1\" class=\"dataframe\">\n",
              "  <thead>\n",
              "    <tr style=\"text-align: right;\">\n",
              "      <th></th>\n",
              "      <th>date</th>\n",
              "      <th>AccX</th>\n",
              "      <th>AccY</th>\n",
              "      <th>AccZ</th>\n",
              "      <th>GyrX</th>\n",
              "      <th>GyrY</th>\n",
              "      <th>GyrZ</th>\n",
              "      <th>Temperature</th>\n",
              "      <th>Fall_detection</th>\n",
              "    </tr>\n",
              "  </thead>\n",
              "  <tbody>\n",
              "    <tr>\n",
              "      <th>0</th>\n",
              "      <td>23/1/2023, 21:55:46</td>\n",
              "      <td>132</td>\n",
              "      <td>-284</td>\n",
              "      <td>20228</td>\n",
              "      <td>-488</td>\n",
              "      <td>-3</td>\n",
              "      <td>60</td>\n",
              "      <td>30.37</td>\n",
              "      <td>0</td>\n",
              "    </tr>\n",
              "    <tr>\n",
              "      <th>1</th>\n",
              "      <td>23/1/2023, 21:55:47</td>\n",
              "      <td>240</td>\n",
              "      <td>-92</td>\n",
              "      <td>19784</td>\n",
              "      <td>-489</td>\n",
              "      <td>-92</td>\n",
              "      <td>61</td>\n",
              "      <td>30.41</td>\n",
              "      <td>0</td>\n",
              "    </tr>\n",
              "    <tr>\n",
              "      <th>2</th>\n",
              "      <td>23/1/2023, 21:55:48</td>\n",
              "      <td>200</td>\n",
              "      <td>-140</td>\n",
              "      <td>19928</td>\n",
              "      <td>-481</td>\n",
              "      <td>-69</td>\n",
              "      <td>35</td>\n",
              "      <td>30.41</td>\n",
              "      <td>0</td>\n",
              "    </tr>\n",
              "    <tr>\n",
              "      <th>3</th>\n",
              "      <td>23/1/2023, 21:55:49</td>\n",
              "      <td>108</td>\n",
              "      <td>-44</td>\n",
              "      <td>20004</td>\n",
              "      <td>-498</td>\n",
              "      <td>-67</td>\n",
              "      <td>55</td>\n",
              "      <td>30.41</td>\n",
              "      <td>0</td>\n",
              "    </tr>\n",
              "    <tr>\n",
              "      <th>4</th>\n",
              "      <td>23/1/2023, 21:55:50</td>\n",
              "      <td>304</td>\n",
              "      <td>12</td>\n",
              "      <td>20044</td>\n",
              "      <td>-469</td>\n",
              "      <td>-39</td>\n",
              "      <td>77</td>\n",
              "      <td>30.55</td>\n",
              "      <td>0</td>\n",
              "    </tr>\n",
              "  </tbody>\n",
              "</table>\n",
              "</div>\n",
              "      <button class=\"colab-df-convert\" onclick=\"convertToInteractive('df-d363bcdc-3272-4e41-8d2b-e3d2bacfd8c7')\"\n",
              "              title=\"Convert this dataframe to an interactive table.\"\n",
              "              style=\"display:none;\">\n",
              "        \n",
              "  <svg xmlns=\"http://www.w3.org/2000/svg\" height=\"24px\"viewBox=\"0 0 24 24\"\n",
              "       width=\"24px\">\n",
              "    <path d=\"M0 0h24v24H0V0z\" fill=\"none\"/>\n",
              "    <path d=\"M18.56 5.44l.94 2.06.94-2.06 2.06-.94-2.06-.94-.94-2.06-.94 2.06-2.06.94zm-11 1L8.5 8.5l.94-2.06 2.06-.94-2.06-.94L8.5 2.5l-.94 2.06-2.06.94zm10 10l.94 2.06.94-2.06 2.06-.94-2.06-.94-.94-2.06-.94 2.06-2.06.94z\"/><path d=\"M17.41 7.96l-1.37-1.37c-.4-.4-.92-.59-1.43-.59-.52 0-1.04.2-1.43.59L10.3 9.45l-7.72 7.72c-.78.78-.78 2.05 0 2.83L4 21.41c.39.39.9.59 1.41.59.51 0 1.02-.2 1.41-.59l7.78-7.78 2.81-2.81c.8-.78.8-2.07 0-2.86zM5.41 20L4 18.59l7.72-7.72 1.47 1.35L5.41 20z\"/>\n",
              "  </svg>\n",
              "      </button>\n",
              "      \n",
              "  <style>\n",
              "    .colab-df-container {\n",
              "      display:flex;\n",
              "      flex-wrap:wrap;\n",
              "      gap: 12px;\n",
              "    }\n",
              "\n",
              "    .colab-df-convert {\n",
              "      background-color: #E8F0FE;\n",
              "      border: none;\n",
              "      border-radius: 50%;\n",
              "      cursor: pointer;\n",
              "      display: none;\n",
              "      fill: #1967D2;\n",
              "      height: 32px;\n",
              "      padding: 0 0 0 0;\n",
              "      width: 32px;\n",
              "    }\n",
              "\n",
              "    .colab-df-convert:hover {\n",
              "      background-color: #E2EBFA;\n",
              "      box-shadow: 0px 1px 2px rgba(60, 64, 67, 0.3), 0px 1px 3px 1px rgba(60, 64, 67, 0.15);\n",
              "      fill: #174EA6;\n",
              "    }\n",
              "\n",
              "    [theme=dark] .colab-df-convert {\n",
              "      background-color: #3B4455;\n",
              "      fill: #D2E3FC;\n",
              "    }\n",
              "\n",
              "    [theme=dark] .colab-df-convert:hover {\n",
              "      background-color: #434B5C;\n",
              "      box-shadow: 0px 1px 3px 1px rgba(0, 0, 0, 0.15);\n",
              "      filter: drop-shadow(0px 1px 2px rgba(0, 0, 0, 0.3));\n",
              "      fill: #FFFFFF;\n",
              "    }\n",
              "  </style>\n",
              "\n",
              "      <script>\n",
              "        const buttonEl =\n",
              "          document.querySelector('#df-d363bcdc-3272-4e41-8d2b-e3d2bacfd8c7 button.colab-df-convert');\n",
              "        buttonEl.style.display =\n",
              "          google.colab.kernel.accessAllowed ? 'block' : 'none';\n",
              "\n",
              "        async function convertToInteractive(key) {\n",
              "          const element = document.querySelector('#df-d363bcdc-3272-4e41-8d2b-e3d2bacfd8c7');\n",
              "          const dataTable =\n",
              "            await google.colab.kernel.invokeFunction('convertToInteractive',\n",
              "                                                     [key], {});\n",
              "          if (!dataTable) return;\n",
              "\n",
              "          const docLinkHtml = 'Like what you see? Visit the ' +\n",
              "            '<a target=\"_blank\" href=https://colab.research.google.com/notebooks/data_table.ipynb>data table notebook</a>'\n",
              "            + ' to learn more about interactive tables.';\n",
              "          element.innerHTML = '';\n",
              "          dataTable['output_type'] = 'display_data';\n",
              "          await google.colab.output.renderOutput(dataTable, element);\n",
              "          const docLink = document.createElement('div');\n",
              "          docLink.innerHTML = docLinkHtml;\n",
              "          element.appendChild(docLink);\n",
              "        }\n",
              "      </script>\n",
              "    </div>\n",
              "  </div>\n",
              "  "
            ]
          },
          "metadata": {},
          "execution_count": 3
        }
      ]
    },
    {
      "cell_type": "code",
      "source": [
        "import warnings\n",
        "warnings.filterwarnings('ignore')\n",
        "sns.countplot(x='Fall_detection',data=data,palette=\"hls\")"
      ],
      "metadata": {
        "colab": {
          "base_uri": "https://localhost:8080/",
          "height": 467
        },
        "id": "aJLJvpJ-gPUG",
        "outputId": "64c3eafd-10bb-4f9e-fd97-b8b03f9466b9"
      },
      "execution_count": null,
      "outputs": [
        {
          "output_type": "execute_result",
          "data": {
            "text/plain": [
              "<Axes: xlabel='Fall_detection', ylabel='count'>"
            ]
          },
          "metadata": {},
          "execution_count": 4
        },
        {
          "output_type": "display_data",
          "data": {
            "text/plain": [
              "<Figure size 640x480 with 1 Axes>"
            ],
            "image/png": "[encoded data removed]"
          },
          "metadata": {}
        }
      ]
    },
    {
      "cell_type": "code",
      "source": [
        "data[[\"AccX\",\"AccY\",\"AccZ\",\"GyrX\",\"GyrY\",\"GyrZ\",\"Temperature\"]].describe()"
      ],
      "metadata": {
        "colab": {
          "base_uri": "https://localhost:8080/",
          "height": 300
        },
        "id": "yEkDEqO9gSJb",
        "outputId": "3c1411fa-c24e-404f-f4d6-26c7c7eca556"
      },
      "execution_count": null,
      "outputs": [
        {
          "output_type": "execute_result",
          "data": {
            "text/plain": [
              "               AccX          AccY           AccZ          GyrX          GyrY  \\\n",
              "count    781.000000    781.000000     781.000000    781.000000    781.000000   \n",
              "mean      84.814341   -170.350832   19254.104994   -508.151088    -49.340589   \n",
              "std     5344.493119   4545.568200    8042.112085   1354.189746   1514.348177   \n",
              "min   -21120.000000 -21584.000000       0.000000 -10190.000000  -9760.000000   \n",
              "25%        0.000000   -284.000000   16684.000000   -496.000000   -118.000000   \n",
              "50%      232.000000   -136.000000   19904.000000   -472.000000    -68.000000   \n",
              "75%      408.000000      0.000000   20120.000000   -450.000000     -7.000000   \n",
              "max    24680.000000  19604.000000  101824.000000  11642.000000  10706.000000   \n",
              "\n",
              "              GyrZ  Temperature  \n",
              "count   781.000000   781.000000  \n",
              "mean     60.162612    30.629475  \n",
              "std     237.147845    11.829266  \n",
              "min   -2787.000000     0.000000  \n",
              "25%      43.000000    28.290000  \n",
              "50%      61.000000    30.550000  \n",
              "75%      76.000000    30.980000  \n",
              "max    2802.000000   137.050000  "
            ],
            "text/html": [
              "\n",
              "  <div id=\"df-c1615a64-a158-465b-9b86-c6f91902c099\">\n",
              "    <div class=\"colab-df-container\">\n",
              "      <div>\n",
              "<style scoped>\n",
              "    .dataframe tbody tr th:only-of-type {\n",
              "        vertical-align: middle;\n",
              "    }\n",
              "\n",
              "    .dataframe tbody tr th {\n",
              "        vertical-align: top;\n",
              "    }\n",
              "\n",
              "    .dataframe thead th {\n",
              "        text-align: right;\n",
              "    }\n",
              "</style>\n",
              "<table border=\"1\" class=\"dataframe\">\n",
              "  <thead>\n",
              "    <tr style=\"text-align: right;\">\n",
              "      <th></th>\n",
              "      <th>AccX</th>\n",
              "      <th>AccY</th>\n",
              "      <th>AccZ</th>\n",
              "      <th>GyrX</th>\n",
              "      <th>GyrY</th>\n",
              "      <th>GyrZ</th>\n",
              "      <th>Temperature</th>\n",
              "    </tr>\n",
              "  </thead>\n",
              "  <tbody>\n",
              "    <tr>\n",
              "      <th>count</th>\n",
              "      <td>781.000000</td>\n",
              "      <td>781.000000</td>\n",
              "      <td>781.000000</td>\n",
              "      <td>781.000000</td>\n",
              "      <td>781.000000</td>\n",
              "      <td>781.000000</td>\n",
              "      <td>781.000000</td>\n",
              "    </tr>\n",
              "    <tr>\n",
              "      <th>mean</th>\n",
              "      <td>84.814341</td>\n",
              "      <td>-170.350832</td>\n",
              "      <td>19254.104994</td>\n",
              "      <td>-508.151088</td>\n",
              "      <td>-49.340589</td>\n",
              "      <td>60.162612</td>\n",
              "      <td>30.629475</td>\n",
              "    </tr>\n",
              "    <tr>\n",
              "      <th>std</th>\n",
              "      <td>5344.493119</td>\n",
              "      <td>4545.568200</td>\n",
              "      <td>8042.112085</td>\n",
              "      <td>1354.189746</td>\n",
              "      <td>1514.348177</td>\n",
              "      <td>237.147845</td>\n",
              "      <td>11.829266</td>\n",
              "    </tr>\n",
              "    <tr>\n",
              "      <th>min</th>\n",
              "      <td>-21120.000000</td>\n",
              "      <td>-21584.000000</td>\n",
              "      <td>0.000000</td>\n",
              "      <td>-10190.000000</td>\n",
              "      <td>-9760.000000</td>\n",
              "      <td>-2787.000000</td>\n",
              "      <td>0.000000</td>\n",
              "    </tr>\n",
              "    <tr>\n",
              "      <th>25%</th>\n",
              "      <td>0.000000</td>\n",
              "      <td>-284.000000</td>\n",
              "      <td>16684.000000</td>\n",
              "      <td>-496.000000</td>\n",
              "      <td>-118.000000</td>\n",
              "      <td>43.000000</td>\n",
              "      <td>28.290000</td>\n",
              "    </tr>\n",
              "    <tr>\n",
              "      <th>50%</th>\n",
              "      <td>232.000000</td>\n",
              "      <td>-136.000000</td>\n",
              "      <td>19904.000000</td>\n",
              "      <td>-472.000000</td>\n",
              "      <td>-68.000000</td>\n",
              "      <td>61.000000</td>\n",
              "      <td>30.550000</td>\n",
              "    </tr>\n",
              "    <tr>\n",
              "      <th>75%</th>\n",
              "      <td>408.000000</td>\n",
              "      <td>0.000000</td>\n",
              "      <td>20120.000000</td>\n",
              "      <td>-450.000000</td>\n",
              "      <td>-7.000000</td>\n",
              "      <td>76.000000</td>\n",
              "      <td>30.980000</td>\n",
              "    </tr>\n",
              "    <tr>\n",
              "      <th>max</th>\n",
              "      <td>24680.000000</td>\n",
              "      <td>19604.000000</td>\n",
              "      <td>101824.000000</td>\n",
              "      <td>11642.000000</td>\n",
              "      <td>10706.000000</td>\n",
              "      <td>2802.000000</td>\n",
              "      <td>137.050000</td>\n",
              "    </tr>\n",
              "  </tbody>\n",
              "</table>\n",
              "</div>\n",
              "      <button class=\"colab-df-convert\" onclick=\"convertToInteractive('df-c1615a64-a158-465b-9b86-c6f91902c099')\"\n",
              "              title=\"Convert this dataframe to an interactive table.\"\n",
              "              style=\"display:none;\">\n",
              "        \n",
              "  <svg xmlns=\"http://www.w3.org/2000/svg\" height=\"24px\"viewBox=\"0 0 24 24\"\n",
              "       width=\"24px\">\n",
              "    <path d=\"M0 0h24v24H0V0z\" fill=\"none\"/>\n",
              "    <path d=\"M18.56 5.44l.94 2.06.94-2.06 2.06-.94-2.06-.94-.94-2.06-.94 2.06-2.06.94zm-11 1L8.5 8.5l.94-2.06 2.06-.94-2.06-.94L8.5 2.5l-.94 2.06-2.06.94zm10 10l.94 2.06.94-2.06 2.06-.94-2.06-.94-.94-2.06-.94 2.06-2.06.94z\"/><path d=\"M17.41 7.96l-1.37-1.37c-.4-.4-.92-.59-1.43-.59-.52 0-1.04.2-1.43.59L10.3 9.45l-7.72 7.72c-.78.78-.78 2.05 0 2.83L4 21.41c.39.39.9.59 1.41.59.51 0 1.02-.2 1.41-.59l7.78-7.78 2.81-2.81c.8-.78.8-2.07 0-2.86zM5.41 20L4 18.59l7.72-7.72 1.47 1.35L5.41 20z\"/>\n",
              "  </svg>\n",
              "      </button>\n",
              "      \n",
              "  <style>\n",
              "    .colab-df-container {\n",
              "      display:flex;\n",
              "      flex-wrap:wrap;\n",
              "      gap: 12px;\n",
              "    }\n",
              "\n",
              "    .colab-df-convert {\n",
              "      background-color: #E8F0FE;\n",
              "      border: none;\n",
              "      border-radius: 50%;\n",
              "      cursor: pointer;\n",
              "      display: none;\n",
              "      fill: #1967D2;\n",
              "      height: 32px;\n",
              "      padding: 0 0 0 0;\n",
              "      width: 32px;\n",
              "    }\n",
              "\n",
              "    .colab-df-convert:hover {\n",
              "      background-color: #E2EBFA;\n",
              "      box-shadow: 0px 1px 2px rgba(60, 64, 67, 0.3), 0px 1px 3px 1px rgba(60, 64, 67, 0.15);\n",
              "      fill: #174EA6;\n",
              "    }\n",
              "\n",
              "    [theme=dark] .colab-df-convert {\n",
              "      background-color: #3B4455;\n",
              "      fill: #D2E3FC;\n",
              "    }\n",
              "\n",
              "    [theme=dark] .colab-df-convert:hover {\n",
              "      background-color: #434B5C;\n",
              "      box-shadow: 0px 1px 3px 1px rgba(0, 0, 0, 0.15);\n",
              "      filter: drop-shadow(0px 1px 2px rgba(0, 0, 0, 0.3));\n",
              "      fill: #FFFFFF;\n",
              "    }\n",
              "  </style>\n",
              "\n",
              "      <script>\n",
              "        const buttonEl =\n",
              "          document.querySelector('#df-c1615a64-a158-465b-9b86-c6f91902c099 button.colab-df-convert');\n",
              "        buttonEl.style.display =\n",
              "          google.colab.kernel.accessAllowed ? 'block' : 'none';\n",
              "\n",
              "        async function convertToInteractive(key) {\n",
              "          const element = document.querySelector('#df-c1615a64-a158-465b-9b86-c6f91902c099');\n",
              "          const dataTable =\n",
              "            await google.colab.kernel.invokeFunction('convertToInteractive',\n",
              "                                                     [key], {});\n",
              "          if (!dataTable) return;\n",
              "\n",
              "          const docLinkHtml = 'Like what you see? Visit the ' +\n",
              "            '<a target=\"_blank\" href=https://colab.research.google.com/notebooks/data_table.ipynb>data table notebook</a>'\n",
              "            + ' to learn more about interactive tables.';\n",
              "          element.innerHTML = '';\n",
              "          dataTable['output_type'] = 'display_data';\n",
              "          await google.colab.output.renderOutput(dataTable, element);\n",
              "          const docLink = document.createElement('div');\n",
              "          docLink.innerHTML = docLinkHtml;\n",
              "          element.appendChild(docLink);\n",
              "        }\n",
              "      </script>\n",
              "    </div>\n",
              "  </div>\n",
              "  "
            ]
          },
          "metadata": {},
          "execution_count": 5
        }
      ]
    },
    {
      "cell_type": "code",
      "source": [
        "#df=data.drop([\"date\",\"Temperature\",\"GyrX\",\"GyrY\",\"GyrZ\"],axis=1)\n",
        "df=data.drop([\"date\",\"Temperature\",\"AccX\",\"AccY\",\"AccZ\"],axis=1)"
      ],
      "metadata": {
        "id": "HXeXtEPKgT_z"
      },
      "execution_count": null,
      "outputs": []
    },
    {
      "cell_type": "code",
      "source": [
        "sns.set(style=\"darkgrid\")\n",
        "fig,axs=plt.subplots(1,3,figsize=(12,4))\n",
        "sns.histplot(data=df,x=\"GyrX\",kde=True,ax=axs[0],color='green')\n",
        "sns.histplot(data=df,x=\"GyrY\",kde=True,ax=axs[1],color='red')\n",
        "sns.histplot(data=df,x=\"GyrZ\",kde=True,ax=axs[2],color='skyblue')"
      ],
      "metadata": {
        "colab": {
          "base_uri": "https://localhost:8080/",
          "height": 415
        },
        "id": "UNBVouZwgXKp",
        "outputId": "6a5dfb60-97f0-4ed0-c8f5-ea4b8265e2a6"
      },
      "execution_count": null,
      "outputs": [
        {
          "output_type": "execute_result",
          "data": {
            "text/plain": [
              "<Axes: xlabel='GyrZ', ylabel='Count'>"
            ]
          },
          "metadata": {},
          "execution_count": 19
        },
        {
          "output_type": "display_data",
          "data": {
            "text/plain": [
              "<Figure size 1200x400 with 3 Axes>"
            ],
            "image/png": "[encoded data removed]"
          },
          "metadata": {}
        }
      ]
    },
    {
      "cell_type": "code",
      "source": [
        "plt.figure(figsize=(12,6))\n",
        "sns.heatmap(df.corr(),annot=True,cmap='coolwarm')"
      ],
      "metadata": {
        "colab": {
          "base_uri": "https://localhost:8080/",
          "height": 551
        },
        "id": "OMquv9RPgZ3y",
        "outputId": "311ea78a-9e63-4b1f-c3e8-b6d1b47d14d4"
      },
      "execution_count": null,
      "outputs": [
        {
          "output_type": "execute_result",
          "data": {
            "text/plain": [
              "<Axes: >"
            ]
          },
          "metadata": {},
          "execution_count": 20
        },
        {
          "output_type": "display_data",
          "data": {
            "text/plain": [
              "<Figure size 1200x600 with 2 Axes>"
            ],
            "image/png": "[encoded data removed]"
          },
          "metadata": {}
        }
      ]
    },
    {
      "cell_type": "code",
      "source": [
        "x=((df.loc[:,df.columns!=\"Fall_detection\"]).astype(float)).values[:,0:]\n",
        "y=df['Fall_detection'].values.reshape(-1, 1)"
      ],
      "metadata": {
        "id": "kEG_o-yAgh18"
      },
      "execution_count": null,
      "outputs": []
    },
    {
      "cell_type": "code",
      "source": [
        "df.Fall_detection.unique()"
      ],
      "metadata": {
        "colab": {
          "base_uri": "https://localhost:8080/"
        },
        "id": "KHjezcjzgjPM",
        "outputId": "425460da-4e46-41a1-97fc-e258fc1bd98d"
      },
      "execution_count": null,
      "outputs": [
        {
          "output_type": "execute_result",
          "data": {
            "text/plain": [
              "array([0, 2, 3, 4, 1])"
            ]
          },
          "metadata": {},
          "execution_count": 10
        }
      ]
    },
    {
      "cell_type": "code",
      "source": [
        "x_train,x_test,y_train,y_test=train_test_split(x,y,test_size=0.1,random_state=2)"
      ],
      "metadata": {
        "id": "yKAFOZaBglUR"
      },
      "execution_count": null,
      "outputs": []
    },
    {
      "cell_type": "code",
      "source": [
        "x_train.dtype,x_test.dtype,y_train.dtype,y_test.dtype"
      ],
      "metadata": {
        "colab": {
          "base_uri": "https://localhost:8080/"
        },
        "id": "8KkM_amLgnAV",
        "outputId": "931cc083-414f-4269-f7fe-ecab0c4ce882"
      },
      "execution_count": null,
      "outputs": [
        {
          "output_type": "execute_result",
          "data": {
            "text/plain": [
              "(dtype('float64'), dtype('float64'), dtype('int64'), dtype('int64'))"
            ]
          },
          "metadata": {},
          "execution_count": 12
        }
      ]
    },
    {
      "cell_type": "code",
      "source": [
        "knn=KNeighborsClassifier()\n",
        "knn.fit(x_train,y_train)\n",
        "print(\"KNN Accuracy:{:.2f}%\".format(knn.score(x_test,y_test)*100))"
      ],
      "metadata": {
        "colab": {
          "base_uri": "https://localhost:8080/"
        },
        "id": "O2R7MAvrgp1_",
        "outputId": "b8c15014-ba97-4afa-bc8c-a2c4dc0e642c"
      },
      "execution_count": null,
      "outputs": [
        {
          "output_type": "stream",
          "name": "stdout",
          "text": [
            "KNN Accuracy:62.03%\n"
          ]
        }
      ]
    },
    {
      "cell_type": "code",
      "source": [
        "svm=SVC()\n",
        "svm.fit(x_train,y_train)\n",
        "print(\"SVM Accuracy:{:.2f}%\".format(svm.score(x_test,y_test)*100))"
      ],
      "metadata": {
        "colab": {
          "base_uri": "https://localhost:8080/"
        },
        "id": "NVyDb9ejgr7z",
        "outputId": "f5a42f93-ff62-45bd-fa46-842e3d345428"
      },
      "execution_count": null,
      "outputs": [
        {
          "output_type": "stream",
          "name": "stdout",
          "text": [
            "SVM Accuracy:55.70%\n"
          ]
        }
      ]
    },
    {
      "cell_type": "code",
      "source": [
        "gbc=GradientBoostingClassifier(subsample=0.5,n_estimators=450,max_depth=5,max_leaf_nodes=25)\n",
        "gbc.fit(x_train,y_train)\n",
        "print(\"Gradient Boosting Accuracy:{:.2f}%\".format(gbc.score(x_test,y_test)*100))"
      ],
      "metadata": {
        "colab": {
          "base_uri": "https://localhost:8080/"
        },
        "id": "J5mwtOBCgtq5",
        "outputId": "ef912dc0-7386-4be5-ffe0-6b6572d0b35b"
      },
      "execution_count": null,
      "outputs": [
        {
          "output_type": "stream",
          "name": "stdout",
          "text": [
            "Gradient Boosting Accuracy:56.96%\n"
          ]
        }
      ]
    },
    {
      "cell_type": "code",
      "source": [
        "import warnings\n",
        "warnings.filterwarnings('ignore')\n",
        "xgb=XGBClassifier()\n",
        "xgb.fit(x_train,y_train)\n",
        "print(\"XGB Accuracy:{:.2f}%\".format(xgb.score(x_test,y_test)*100))"
      ],
      "metadata": {
        "colab": {
          "base_uri": "https://localhost:8080/"
        },
        "id": "xl6BosOCgve4",
        "outputId": "88570fc0-6618-4081-83ce-723f96a251bd"
      },
      "execution_count": null,
      "outputs": [
        {
          "output_type": "stream",
          "name": "stdout",
          "text": [
            "XGB Accuracy:56.96%\n"
          ]
        }
      ]
    },
    {
      "cell_type": "code",
      "source": [
        "input=[[70,67,237]]\n",
        "ot=xgb.predict(input)\n",
        "print(\"The weather is:\")\n",
        "if(ot==0):\n",
        "    print(\"Normal\")\n",
        "elif(ot==1):\n",
        "    print(\"Fall_front\")\n",
        "elif(ot==2):\n",
        "    print(\"Fall_back\")\n",
        "elif(ot==3):\n",
        "    print(\"Fall_left\")\n",
        "else:\n",
        "    print(\"Fall_right\")"
      ],
      "metadata": {
        "colab": {
          "base_uri": "https://localhost:8080/"
        },
        "id": "K1IiJlTUgxjr",
        "outputId": "6525fee7-1afa-4a4e-d1c3-8ddea5066aa0"
      },
      "execution_count": null,
      "outputs": [
        {
          "output_type": "stream",
          "name": "stdout",
          "text": [
            "The weather is:\n",
            "Fall_left\n"
          ]
        }
      ]
    }
  ]
}