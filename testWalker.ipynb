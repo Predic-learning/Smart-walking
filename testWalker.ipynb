{
  "nbformat": 4,
  "nbformat_minor": 0,
  "metadata": {
    "colab": {
      "provenance": [],
      "include_colab_link": true
    },
    "kernelspec": {
      "name": "python3",
      "display_name": "Python 3"
    },
    "language_info": {
      "name": "python"
    },
    "accelerator": "GPU",
    "gpuClass": "standard"
  },
  "cells": [
    {
      "cell_type": "markdown",
      "metadata": {
        "id": "view-in-github",
        "colab_type": "text"
      },
      "source": [
        "<a href=\"https://colab.research.google.com/github/Predic-learning/Smart-walking/blob/main/testWalker.ipynb\" target=\"_parent\"><img src=\"https://colab.research.google.com/assets/colab-badge.svg\" alt=\"Open In Colab\"/></a>"
      ]
    },
    {
      "cell_type": "code",
      "execution_count": null,
      "metadata": {
        "id": "bqvYuItjX3Vy"
      },
      "outputs": [],
      "source": [
        "import numpy as np\n",
        "import pandas as pd"
      ]
    },
    {
      "cell_type": "code",
      "source": [
        "import matplotlib.pyplot as plt\n",
        "import seaborn as sns\n",
        "import scipy\n",
        "import re\n",
        "import missingno as mso\n",
        "from scipy import stats\n",
        "from scipy.stats import ttest_ind\n",
        "from scipy.stats import pearsonr\n",
        "from sklearn.preprocessing import StandardScaler,LabelEncoder\n",
        "from sklearn.model_selection import train_test_split\n",
        "from sklearn.neighbors import KNeighborsClassifier\n",
        "from sklearn.svm import SVC\n",
        "from sklearn.ensemble import GradientBoostingClassifier\n",
        "from xgboost import XGBClassifier\n",
        "from sklearn.metrics import accuracy_score,confusion_matrix,classification_report"
      ],
      "metadata": {
        "id": "KigqW4TFYWmg"
      },
      "execution_count": null,
      "outputs": []
    },
    {
      "cell_type": "code",
      "source": [
        "data = pd.read_csv('/content/drive/MyDrive/Weather/Smart_walker_detect.csv')"
      ],
      "metadata": {
        "id": "i7NGyv5cExC7"
      },
      "execution_count": null,
      "outputs": []
    },
    {
      "cell_type": "code",
      "source": [
        "data.shape"
      ],
      "metadata": {
        "colab": {
          "base_uri": "https://localhost:8080/"
        },
        "id": "CueUzGe-Yvss",
        "outputId": "c1644a89-87bf-49af-c948-68be81edf31c"
      },
      "execution_count": null,
      "outputs": [
        {
          "output_type": "execute_result",
          "data": {
            "text/plain": [
              "(781, 9)"
            ]
          },
          "metadata": {},
          "execution_count": 4
        }
      ]
    },
    {
      "cell_type": "code",
      "source": [
        "data"
      ],
      "metadata": {
        "colab": {
          "base_uri": "https://localhost:8080/",
          "height": 423
        },
        "id": "y3DRTwpI1aBb",
        "outputId": "16c61983-a8e5-4cd3-ccc1-5c0b420b0e15"
      },
      "execution_count": null,
      "outputs": [
        {
          "output_type": "execute_result",
          "data": {
            "text/plain": [
              "                    date   AccX  AccY   AccZ  GyrX  GyrY  GyrZ  Temperature  \\\n",
              "0    23/1/2023, 21:55:46    132  -284  20228  -488    -3    60        30.37   \n",
              "1    23/1/2023, 21:55:47    240   -92  19784  -489   -92    61        30.41   \n",
              "2    23/1/2023, 21:55:48    200  -140  19928  -481   -69    35        30.41   \n",
              "3    23/1/2023, 21:55:49    108   -44  20004  -498   -67    55        30.41   \n",
              "4    23/1/2023, 21:55:50    304    12  20044  -469   -39    77        30.55   \n",
              "..                   ...    ...   ...    ...   ...   ...   ...          ...   \n",
              "776   25/1/2023, 5:53:03    432  -132  20020  -335 -3568  -145        27.64   \n",
              "777   25/1/2023, 5:53:04   9040  -204  17708  -449  -913    42        27.54   \n",
              "778   25/1/2023, 5:53:05   9820  -172  17112  -470  -472    41        27.68   \n",
              "779   25/1/2023, 5:53:06   9924  -176  16952  -465  -233    65        27.59   \n",
              "780   25/1/2023, 5:53:07  10044     0  17008  -455  -235    31        27.49   \n",
              "\n",
              "     Fall_detection  \n",
              "0                 0  \n",
              "1                 0  \n",
              "2                 0  \n",
              "3                 0  \n",
              "4                 0  \n",
              "..              ...  \n",
              "776               0  \n",
              "777               1  \n",
              "778               1  \n",
              "779               1  \n",
              "780               1  \n",
              "\n",
              "[781 rows x 9 columns]"
            ],
            "text/html": [
              "\n",
              "  <div id=\"df-2301f658-39cd-4fba-8206-1618cd668258\">\n",
              "    <div class=\"colab-df-container\">\n",
              "      <div>\n",
              "<style scoped>\n",
              "    .dataframe tbody tr th:only-of-type {\n",
              "        vertical-align: middle;\n",
              "    }\n",
              "\n",
              "    .dataframe tbody tr th {\n",
              "        vertical-align: top;\n",
              "    }\n",
              "\n",
              "    .dataframe thead th {\n",
              "        text-align: right;\n",
              "    }\n",
              "</style>\n",
              "<table border=\"1\" class=\"dataframe\">\n",
              "  <thead>\n",
              "    <tr style=\"text-align: right;\">\n",
              "      <th></th>\n",
              "      <th>date</th>\n",
              "      <th>AccX</th>\n",
              "      <th>AccY</th>\n",
              "      <th>AccZ</th>\n",
              "      <th>GyrX</th>\n",
              "      <th>GyrY</th>\n",
              "      <th>GyrZ</th>\n",
              "      <th>Temperature</th>\n",
              "      <th>Fall_detection</th>\n",
              "    </tr>\n",
              "  </thead>\n",
              "  <tbody>\n",
              "    <tr>\n",
              "      <th>0</th>\n",
              "      <td>23/1/2023, 21:55:46</td>\n",
              "      <td>132</td>\n",
              "      <td>-284</td>\n",
              "      <td>20228</td>\n",
              "      <td>-488</td>\n",
              "      <td>-3</td>\n",
              "      <td>60</td>\n",
              "      <td>30.37</td>\n",
              "      <td>0</td>\n",
              "    </tr>\n",
              "    <tr>\n",
              "      <th>1</th>\n",
              "      <td>23/1/2023, 21:55:47</td>\n",
              "      <td>240</td>\n",
              "      <td>-92</td>\n",
              "      <td>19784</td>\n",
              "      <td>-489</td>\n",
              "      <td>-92</td>\n",
              "      <td>61</td>\n",
              "      <td>30.41</td>\n",
              "      <td>0</td>\n",
              "    </tr>\n",
              "    <tr>\n",
              "      <th>2</th>\n",
              "      <td>23/1/2023, 21:55:48</td>\n",
              "      <td>200</td>\n",
              "      <td>-140</td>\n",
              "      <td>19928</td>\n",
              "      <td>-481</td>\n",
              "      <td>-69</td>\n",
              "      <td>35</td>\n",
              "      <td>30.41</td>\n",
              "      <td>0</td>\n",
              "    </tr>\n",
              "    <tr>\n",
              "      <th>3</th>\n",
              "      <td>23/1/2023, 21:55:49</td>\n",
              "      <td>108</td>\n",
              "      <td>-44</td>\n",
              "      <td>20004</td>\n",
              "      <td>-498</td>\n",
              "      <td>-67</td>\n",
              "      <td>55</td>\n",
              "      <td>30.41</td>\n",
              "      <td>0</td>\n",
              "    </tr>\n",
              "    <tr>\n",
              "      <th>4</th>\n",
              "      <td>23/1/2023, 21:55:50</td>\n",
              "      <td>304</td>\n",
              "      <td>12</td>\n",
              "      <td>20044</td>\n",
              "      <td>-469</td>\n",
              "      <td>-39</td>\n",
              "      <td>77</td>\n",
              "      <td>30.55</td>\n",
              "      <td>0</td>\n",
              "    </tr>\n",
              "    <tr>\n",
              "      <th>...</th>\n",
              "      <td>...</td>\n",
              "      <td>...</td>\n",
              "      <td>...</td>\n",
              "      <td>...</td>\n",
              "      <td>...</td>\n",
              "      <td>...</td>\n",
              "      <td>...</td>\n",
              "      <td>...</td>\n",
              "      <td>...</td>\n",
              "    </tr>\n",
              "    <tr>\n",
              "      <th>776</th>\n",
              "      <td>25/1/2023, 5:53:03</td>\n",
              "      <td>432</td>\n",
              "      <td>-132</td>\n",
              "      <td>20020</td>\n",
              "      <td>-335</td>\n",
              "      <td>-3568</td>\n",
              "      <td>-145</td>\n",
              "      <td>27.64</td>\n",
              "      <td>0</td>\n",
              "    </tr>\n",
              "    <tr>\n",
              "      <th>777</th>\n",
              "      <td>25/1/2023, 5:53:04</td>\n",
              "      <td>9040</td>\n",
              "      <td>-204</td>\n",
              "      <td>17708</td>\n",
              "      <td>-449</td>\n",
              "      <td>-913</td>\n",
              "      <td>42</td>\n",
              "      <td>27.54</td>\n",
              "      <td>1</td>\n",
              "    </tr>\n",
              "    <tr>\n",
              "      <th>778</th>\n",
              "      <td>25/1/2023, 5:53:05</td>\n",
              "      <td>9820</td>\n",
              "      <td>-172</td>\n",
              "      <td>17112</td>\n",
              "      <td>-470</td>\n",
              "      <td>-472</td>\n",
              "      <td>41</td>\n",
              "      <td>27.68</td>\n",
              "      <td>1</td>\n",
              "    </tr>\n",
              "    <tr>\n",
              "      <th>779</th>\n",
              "      <td>25/1/2023, 5:53:06</td>\n",
              "      <td>9924</td>\n",
              "      <td>-176</td>\n",
              "      <td>16952</td>\n",
              "      <td>-465</td>\n",
              "      <td>-233</td>\n",
              "      <td>65</td>\n",
              "      <td>27.59</td>\n",
              "      <td>1</td>\n",
              "    </tr>\n",
              "    <tr>\n",
              "      <th>780</th>\n",
              "      <td>25/1/2023, 5:53:07</td>\n",
              "      <td>10044</td>\n",
              "      <td>0</td>\n",
              "      <td>17008</td>\n",
              "      <td>-455</td>\n",
              "      <td>-235</td>\n",
              "      <td>31</td>\n",
              "      <td>27.49</td>\n",
              "      <td>1</td>\n",
              "    </tr>\n",
              "  </tbody>\n",
              "</table>\n",
              "<p>781 rows × 9 columns</p>\n",
              "</div>\n",
              "      <button class=\"colab-df-convert\" onclick=\"convertToInteractive('df-2301f658-39cd-4fba-8206-1618cd668258')\"\n",
              "              title=\"Convert this dataframe to an interactive table.\"\n",
              "              style=\"display:none;\">\n",
              "        \n",
              "  <svg xmlns=\"http://www.w3.org/2000/svg\" height=\"24px\"viewBox=\"0 0 24 24\"\n",
              "       width=\"24px\">\n",
              "    <path d=\"M0 0h24v24H0V0z\" fill=\"none\"/>\n",
              "    <path d=\"M18.56 5.44l.94 2.06.94-2.06 2.06-.94-2.06-.94-.94-2.06-.94 2.06-2.06.94zm-11 1L8.5 8.5l.94-2.06 2.06-.94-2.06-.94L8.5 2.5l-.94 2.06-2.06.94zm10 10l.94 2.06.94-2.06 2.06-.94-2.06-.94-.94-2.06-.94 2.06-2.06.94z\"/><path d=\"M17.41 7.96l-1.37-1.37c-.4-.4-.92-.59-1.43-.59-.52 0-1.04.2-1.43.59L10.3 9.45l-7.72 7.72c-.78.78-.78 2.05 0 2.83L4 21.41c.39.39.9.59 1.41.59.51 0 1.02-.2 1.41-.59l7.78-7.78 2.81-2.81c.8-.78.8-2.07 0-2.86zM5.41 20L4 18.59l7.72-7.72 1.47 1.35L5.41 20z\"/>\n",
              "  </svg>\n",
              "      </button>\n",
              "      \n",
              "  <style>\n",
              "    .colab-df-container {\n",
              "      display:flex;\n",
              "      flex-wrap:wrap;\n",
              "      gap: 12px;\n",
              "    }\n",
              "\n",
              "    .colab-df-convert {\n",
              "      background-color: #E8F0FE;\n",
              "      border: none;\n",
              "      border-radius: 50%;\n",
              "      cursor: pointer;\n",
              "      display: none;\n",
              "      fill: #1967D2;\n",
              "      height: 32px;\n",
              "      padding: 0 0 0 0;\n",
              "      width: 32px;\n",
              "    }\n",
              "\n",
              "    .colab-df-convert:hover {\n",
              "      background-color: #E2EBFA;\n",
              "      box-shadow: 0px 1px 2px rgba(60, 64, 67, 0.3), 0px 1px 3px 1px rgba(60, 64, 67, 0.15);\n",
              "      fill: #174EA6;\n",
              "    }\n",
              "\n",
              "    [theme=dark] .colab-df-convert {\n",
              "      background-color: #3B4455;\n",
              "      fill: #D2E3FC;\n",
              "    }\n",
              "\n",
              "    [theme=dark] .colab-df-convert:hover {\n",
              "      background-color: #434B5C;\n",
              "      box-shadow: 0px 1px 3px 1px rgba(0, 0, 0, 0.15);\n",
              "      filter: drop-shadow(0px 1px 2px rgba(0, 0, 0, 0.3));\n",
              "      fill: #FFFFFF;\n",
              "    }\n",
              "  </style>\n",
              "\n",
              "      <script>\n",
              "        const buttonEl =\n",
              "          document.querySelector('#df-2301f658-39cd-4fba-8206-1618cd668258 button.colab-df-convert');\n",
              "        buttonEl.style.display =\n",
              "          google.colab.kernel.accessAllowed ? 'block' : 'none';\n",
              "\n",
              "        async function convertToInteractive(key) {\n",
              "          const element = document.querySelector('#df-2301f658-39cd-4fba-8206-1618cd668258');\n",
              "          const dataTable =\n",
              "            await google.colab.kernel.invokeFunction('convertToInteractive',\n",
              "                                                     [key], {});\n",
              "          if (!dataTable) return;\n",
              "\n",
              "          const docLinkHtml = 'Like what you see? Visit the ' +\n",
              "            '<a target=\"_blank\" href=https://colab.research.google.com/notebooks/data_table.ipynb>data table notebook</a>'\n",
              "            + ' to learn more about interactive tables.';\n",
              "          element.innerHTML = '';\n",
              "          dataTable['output_type'] = 'display_data';\n",
              "          await google.colab.output.renderOutput(dataTable, element);\n",
              "          const docLink = document.createElement('div');\n",
              "          docLink.innerHTML = docLinkHtml;\n",
              "          element.appendChild(docLink);\n",
              "        }\n",
              "      </script>\n",
              "    </div>\n",
              "  </div>\n",
              "  "
            ]
          },
          "metadata": {},
          "execution_count": 5
        }
      ]
    },
    {
      "cell_type": "code",
      "source": [
        "import warnings\n",
        "warnings.filterwarnings('ignore')\n",
        "sns.countplot(x='Fall_detection',data=data,palette=\"hls\")"
      ],
      "metadata": {
        "colab": {
          "base_uri": "https://localhost:8080/",
          "height": 467
        },
        "id": "tNT-rCB0YzGp",
        "outputId": "f30ea670-1023-49aa-e45c-02d678378f5a"
      },
      "execution_count": null,
      "outputs": [
        {
          "output_type": "execute_result",
          "data": {
            "text/plain": [
              "<Axes: xlabel='Fall_detection', ylabel='count'>"
            ]
          },
          "metadata": {},
          "execution_count": 6
        },
        {
          "output_type": "display_data",
          "data": {
            "text/plain": [
              "<Figure size 640x480 with 1 Axes>"
            ],
            "image/png": "[encoded data removed]"
          },
          "metadata": {}
        }
      ]
    },
    {
      "cell_type": "code",
      "source": [
        "data[[\"AccX\",\"AccY\",\"AccZ\",\"GyrX\",\"GyrY\",\"GyrZ\",\"Temperature\"]].describe()"
      ],
      "metadata": {
        "colab": {
          "base_uri": "https://localhost:8080/",
          "height": 300
        },
        "id": "aETmMU9ciKVe",
        "outputId": "b9ac67ba-c987-4e9e-f7f3-ab876273248a"
      },
      "execution_count": null,
      "outputs": [
        {
          "output_type": "execute_result",
          "data": {
            "text/plain": [
              "               AccX          AccY           AccZ          GyrX          GyrY  \\\n",
              "count    781.000000    781.000000     781.000000    781.000000    781.000000   \n",
              "mean      84.814341   -170.350832   19254.104994   -508.151088    -49.340589   \n",
              "std     5344.493119   4545.568200    8042.112085   1354.189746   1514.348177   \n",
              "min   -21120.000000 -21584.000000       0.000000 -10190.000000  -9760.000000   \n",
              "25%        0.000000   -284.000000   16684.000000   -496.000000   -118.000000   \n",
              "50%      232.000000   -136.000000   19904.000000   -472.000000    -68.000000   \n",
              "75%      408.000000      0.000000   20120.000000   -450.000000     -7.000000   \n",
              "max    24680.000000  19604.000000  101824.000000  11642.000000  10706.000000   \n",
              "\n",
              "              GyrZ  Temperature  \n",
              "count   781.000000   781.000000  \n",
              "mean     60.162612    30.629475  \n",
              "std     237.147845    11.829266  \n",
              "min   -2787.000000     0.000000  \n",
              "25%      43.000000    28.290000  \n",
              "50%      61.000000    30.550000  \n",
              "75%      76.000000    30.980000  \n",
              "max    2802.000000   137.050000  "
            ],
            "text/html": [
              "\n",
              "  <div id=\"df-4294d3cd-d26a-4ca1-89ff-5936f0c86947\">\n",
              "    <div class=\"colab-df-container\">\n",
              "      <div>\n",
              "<style scoped>\n",
              "    .dataframe tbody tr th:only-of-type {\n",
              "        vertical-align: middle;\n",
              "    }\n",
              "\n",
              "    .dataframe tbody tr th {\n",
              "        vertical-align: top;\n",
              "    }\n",
              "\n",
              "    .dataframe thead th {\n",
              "        text-align: right;\n",
              "    }\n",
              "</style>\n",
              "<table border=\"1\" class=\"dataframe\">\n",
              "  <thead>\n",
              "    <tr style=\"text-align: right;\">\n",
              "      <th></th>\n",
              "      <th>AccX</th>\n",
              "      <th>AccY</th>\n",
              "      <th>AccZ</th>\n",
              "      <th>GyrX</th>\n",
              "      <th>GyrY</th>\n",
              "      <th>GyrZ</th>\n",
              "      <th>Temperature</th>\n",
              "    </tr>\n",
              "  </thead>\n",
              "  <tbody>\n",
              "    <tr>\n",
              "      <th>count</th>\n",
              "      <td>781.000000</td>\n",
              "      <td>781.000000</td>\n",
              "      <td>781.000000</td>\n",
              "      <td>781.000000</td>\n",
              "      <td>781.000000</td>\n",
              "      <td>781.000000</td>\n",
              "      <td>781.000000</td>\n",
              "    </tr>\n",
              "    <tr>\n",
              "      <th>mean</th>\n",
              "      <td>84.814341</td>\n",
              "      <td>-170.350832</td>\n",
              "      <td>19254.104994</td>\n",
              "      <td>-508.151088</td>\n",
              "      <td>-49.340589</td>\n",
              "      <td>60.162612</td>\n",
              "      <td>30.629475</td>\n",
              "    </tr>\n",
              "    <tr>\n",
              "      <th>std</th>\n",
              "      <td>5344.493119</td>\n",
              "      <td>4545.568200</td>\n",
              "      <td>8042.112085</td>\n",
              "      <td>1354.189746</td>\n",
              "      <td>1514.348177</td>\n",
              "      <td>237.147845</td>\n",
              "      <td>11.829266</td>\n",
              "    </tr>\n",
              "    <tr>\n",
              "      <th>min</th>\n",
              "      <td>-21120.000000</td>\n",
              "      <td>-21584.000000</td>\n",
              "      <td>0.000000</td>\n",
              "      <td>-10190.000000</td>\n",
              "      <td>-9760.000000</td>\n",
              "      <td>-2787.000000</td>\n",
              "      <td>0.000000</td>\n",
              "    </tr>\n",
              "    <tr>\n",
              "      <th>25%</th>\n",
              "      <td>0.000000</td>\n",
              "      <td>-284.000000</td>\n",
              "      <td>16684.000000</td>\n",
              "      <td>-496.000000</td>\n",
              "      <td>-118.000000</td>\n",
              "      <td>43.000000</td>\n",
              "      <td>28.290000</td>\n",
              "    </tr>\n",
              "    <tr>\n",
              "      <th>50%</th>\n",
              "      <td>232.000000</td>\n",
              "      <td>-136.000000</td>\n",
              "      <td>19904.000000</td>\n",
              "      <td>-472.000000</td>\n",
              "      <td>-68.000000</td>\n",
              "      <td>61.000000</td>\n",
              "      <td>30.550000</td>\n",
              "    </tr>\n",
              "    <tr>\n",
              "      <th>75%</th>\n",
              "      <td>408.000000</td>\n",
              "      <td>0.000000</td>\n",
              "      <td>20120.000000</td>\n",
              "      <td>-450.000000</td>\n",
              "      <td>-7.000000</td>\n",
              "      <td>76.000000</td>\n",
              "      <td>30.980000</td>\n",
              "    </tr>\n",
              "    <tr>\n",
              "      <th>max</th>\n",
              "      <td>24680.000000</td>\n",
              "      <td>19604.000000</td>\n",
              "      <td>101824.000000</td>\n",
              "      <td>11642.000000</td>\n",
              "      <td>10706.000000</td>\n",
              "      <td>2802.000000</td>\n",
              "      <td>137.050000</td>\n",
              "    </tr>\n",
              "  </tbody>\n",
              "</table>\n",
              "</div>\n",
              "      <button class=\"colab-df-convert\" onclick=\"convertToInteractive('df-4294d3cd-d26a-4ca1-89ff-5936f0c86947')\"\n",
              "              title=\"Convert this dataframe to an interactive table.\"\n",
              "              style=\"display:none;\">\n",
              "        \n",
              "  <svg xmlns=\"http://www.w3.org/2000/svg\" height=\"24px\"viewBox=\"0 0 24 24\"\n",
              "       width=\"24px\">\n",
              "    <path d=\"M0 0h24v24H0V0z\" fill=\"none\"/>\n",
              "    <path d=\"M18.56 5.44l.94 2.06.94-2.06 2.06-.94-2.06-.94-.94-2.06-.94 2.06-2.06.94zm-11 1L8.5 8.5l.94-2.06 2.06-.94-2.06-.94L8.5 2.5l-.94 2.06-2.06.94zm10 10l.94 2.06.94-2.06 2.06-.94-2.06-.94-.94-2.06-.94 2.06-2.06.94z\"/><path d=\"M17.41 7.96l-1.37-1.37c-.4-.4-.92-.59-1.43-.59-.52 0-1.04.2-1.43.59L10.3 9.45l-7.72 7.72c-.78.78-.78 2.05 0 2.83L4 21.41c.39.39.9.59 1.41.59.51 0 1.02-.2 1.41-.59l7.78-7.78 2.81-2.81c.8-.78.8-2.07 0-2.86zM5.41 20L4 18.59l7.72-7.72 1.47 1.35L5.41 20z\"/>\n",
              "  </svg>\n",
              "      </button>\n",
              "      \n",
              "  <style>\n",
              "    .colab-df-container {\n",
              "      display:flex;\n",
              "      flex-wrap:wrap;\n",
              "      gap: 12px;\n",
              "    }\n",
              "\n",
              "    .colab-df-convert {\n",
              "      background-color: #E8F0FE;\n",
              "      border: none;\n",
              "      border-radius: 50%;\n",
              "      cursor: pointer;\n",
              "      display: none;\n",
              "      fill: #1967D2;\n",
              "      height: 32px;\n",
              "      padding: 0 0 0 0;\n",
              "      width: 32px;\n",
              "    }\n",
              "\n",
              "    .colab-df-convert:hover {\n",
              "      background-color: #E2EBFA;\n",
              "      box-shadow: 0px 1px 2px rgba(60, 64, 67, 0.3), 0px 1px 3px 1px rgba(60, 64, 67, 0.15);\n",
              "      fill: #174EA6;\n",
              "    }\n",
              "\n",
              "    [theme=dark] .colab-df-convert {\n",
              "      background-color: #3B4455;\n",
              "      fill: #D2E3FC;\n",
              "    }\n",
              "\n",
              "    [theme=dark] .colab-df-convert:hover {\n",
              "      background-color: #434B5C;\n",
              "      box-shadow: 0px 1px 3px 1px rgba(0, 0, 0, 0.15);\n",
              "      filter: drop-shadow(0px 1px 2px rgba(0, 0, 0, 0.3));\n",
              "      fill: #FFFFFF;\n",
              "    }\n",
              "  </style>\n",
              "\n",
              "      <script>\n",
              "        const buttonEl =\n",
              "          document.querySelector('#df-4294d3cd-d26a-4ca1-89ff-5936f0c86947 button.colab-df-convert');\n",
              "        buttonEl.style.display =\n",
              "          google.colab.kernel.accessAllowed ? 'block' : 'none';\n",
              "\n",
              "        async function convertToInteractive(key) {\n",
              "          const element = document.querySelector('#df-4294d3cd-d26a-4ca1-89ff-5936f0c86947');\n",
              "          const dataTable =\n",
              "            await google.colab.kernel.invokeFunction('convertToInteractive',\n",
              "                                                     [key], {});\n",
              "          if (!dataTable) return;\n",
              "\n",
              "          const docLinkHtml = 'Like what you see? Visit the ' +\n",
              "            '<a target=\"_blank\" href=https://colab.research.google.com/notebooks/data_table.ipynb>data table notebook</a>'\n",
              "            + ' to learn more about interactive tables.';\n",
              "          element.innerHTML = '';\n",
              "          dataTable['output_type'] = 'display_data';\n",
              "          await google.colab.output.renderOutput(dataTable, element);\n",
              "          const docLink = document.createElement('div');\n",
              "          docLink.innerHTML = docLinkHtml;\n",
              "          element.appendChild(docLink);\n",
              "        }\n",
              "      </script>\n",
              "    </div>\n",
              "  </div>\n",
              "  "
            ]
          },
          "metadata": {},
          "execution_count": 7
        }
      ]
    },
    {
      "cell_type": "code",
      "source": [
        "sns.set(style=\"darkgrid\")\n",
        "fig,axs=plt.subplots(2,4,figsize=(20,8))\n",
        "sns.histplot(data=data,x=\"AccX\",kde=True,ax=axs[0,0],color='green')\n",
        "sns.histplot(data=data,x=\"AccY\",kde=True,ax=axs[0,1],color='red')\n",
        "sns.histplot(data=data,x=\"AccZ\",kde=True,ax=axs[0,2],color='skyblue')\n",
        "sns.histplot(data=data,x=\"GyrX\",kde=True,ax=axs[1,0],color='green')\n",
        "sns.histplot(data=data,x=\"GyrY\",kde=True,ax=axs[1,1],color='red')\n",
        "sns.histplot(data=data,x=\"GyrZ\",kde=True,ax=axs[1,2],color='skyblue')\n",
        "sns.histplot(data=data,x=\"Temperature\",kde=True,ax=axs[0,3],color='orange')"
      ],
      "metadata": {
        "colab": {
          "base_uri": "https://localhost:8080/",
          "height": 624
        },
        "id": "Kyox-N7gQaQ6",
        "outputId": "5f9e0aed-230f-4d25-c4d0-b5e6d2f18598"
      },
      "execution_count": null,
      "outputs": [
        {
          "output_type": "execute_result",
          "data": {
            "text/plain": [
              "<Axes: xlabel='Temperature', ylabel='Count'>"
            ]
          },
          "metadata": {},
          "execution_count": 8
        },
        {
          "output_type": "display_data",
          "data": {
            "text/plain": [
              "<Figure size 2000x800 with 8 Axes>"
            ],
            "image/png": "[encoded data removed]"
          },
          "metadata": {}
        }
      ]
    },
    {
      "cell_type": "code",
      "source": [
        "data.isna().sum()"
      ],
      "metadata": {
        "colab": {
          "base_uri": "https://localhost:8080/"
        },
        "id": "NyLCaw9cTLd6",
        "outputId": "801a6676-cdee-4dbc-b935-85c8ca567c4b"
      },
      "execution_count": null,
      "outputs": [
        {
          "output_type": "execute_result",
          "data": {
            "text/plain": [
              "date              0\n",
              "AccX              0\n",
              "AccY              0\n",
              "AccZ              0\n",
              "GyrX              0\n",
              "GyrY              0\n",
              "GyrZ              0\n",
              "Temperature       0\n",
              "Fall_detection    0\n",
              "dtype: int64"
            ]
          },
          "metadata": {},
          "execution_count": 9
        }
      ]
    },
    {
      "cell_type": "code",
      "source": [
        "data.head()"
      ],
      "metadata": {
        "colab": {
          "base_uri": "https://localhost:8080/",
          "height": 206
        },
        "id": "E7MAUPxLVILU",
        "outputId": "98dcbc46-eb75-44bd-d260-cbc3f5a6b883"
      },
      "execution_count": null,
      "outputs": [
        {
          "output_type": "execute_result",
          "data": {
            "text/plain": [
              "                  date  AccX  AccY   AccZ  GyrX  GyrY  GyrZ  Temperature  \\\n",
              "0  23/1/2023, 21:55:46   132  -284  20228  -488    -3    60        30.37   \n",
              "1  23/1/2023, 21:55:47   240   -92  19784  -489   -92    61        30.41   \n",
              "2  23/1/2023, 21:55:48   200  -140  19928  -481   -69    35        30.41   \n",
              "3  23/1/2023, 21:55:49   108   -44  20004  -498   -67    55        30.41   \n",
              "4  23/1/2023, 21:55:50   304    12  20044  -469   -39    77        30.55   \n",
              "\n",
              "   Fall_detection  \n",
              "0               0  \n",
              "1               0  \n",
              "2               0  \n",
              "3               0  \n",
              "4               0  "
            ],
            "text/html": [
              "\n",
              "  <div id=\"df-deb43d68-f0b9-455d-987e-6e5c2e9d8eef\">\n",
              "    <div class=\"colab-df-container\">\n",
              "      <div>\n",
              "<style scoped>\n",
              "    .dataframe tbody tr th:only-of-type {\n",
              "        vertical-align: middle;\n",
              "    }\n",
              "\n",
              "    .dataframe tbody tr th {\n",
              "        vertical-align: top;\n",
              "    }\n",
              "\n",
              "    .dataframe thead th {\n",
              "        text-align: right;\n",
              "    }\n",
              "</style>\n",
              "<table border=\"1\" class=\"dataframe\">\n",
              "  <thead>\n",
              "    <tr style=\"text-align: right;\">\n",
              "      <th></th>\n",
              "      <th>date</th>\n",
              "      <th>AccX</th>\n",
              "      <th>AccY</th>\n",
              "      <th>AccZ</th>\n",
              "      <th>GyrX</th>\n",
              "      <th>GyrY</th>\n",
              "      <th>GyrZ</th>\n",
              "      <th>Temperature</th>\n",
              "      <th>Fall_detection</th>\n",
              "    </tr>\n",
              "  </thead>\n",
              "  <tbody>\n",
              "    <tr>\n",
              "      <th>0</th>\n",
              "      <td>23/1/2023, 21:55:46</td>\n",
              "      <td>132</td>\n",
              "      <td>-284</td>\n",
              "      <td>20228</td>\n",
              "      <td>-488</td>\n",
              "      <td>-3</td>\n",
              "      <td>60</td>\n",
              "      <td>30.37</td>\n",
              "      <td>0</td>\n",
              "    </tr>\n",
              "    <tr>\n",
              "      <th>1</th>\n",
              "      <td>23/1/2023, 21:55:47</td>\n",
              "      <td>240</td>\n",
              "      <td>-92</td>\n",
              "      <td>19784</td>\n",
              "      <td>-489</td>\n",
              "      <td>-92</td>\n",
              "      <td>61</td>\n",
              "      <td>30.41</td>\n",
              "      <td>0</td>\n",
              "    </tr>\n",
              "    <tr>\n",
              "      <th>2</th>\n",
              "      <td>23/1/2023, 21:55:48</td>\n",
              "      <td>200</td>\n",
              "      <td>-140</td>\n",
              "      <td>19928</td>\n",
              "      <td>-481</td>\n",
              "      <td>-69</td>\n",
              "      <td>35</td>\n",
              "      <td>30.41</td>\n",
              "      <td>0</td>\n",
              "    </tr>\n",
              "    <tr>\n",
              "      <th>3</th>\n",
              "      <td>23/1/2023, 21:55:49</td>\n",
              "      <td>108</td>\n",
              "      <td>-44</td>\n",
              "      <td>20004</td>\n",
              "      <td>-498</td>\n",
              "      <td>-67</td>\n",
              "      <td>55</td>\n",
              "      <td>30.41</td>\n",
              "      <td>0</td>\n",
              "    </tr>\n",
              "    <tr>\n",
              "      <th>4</th>\n",
              "      <td>23/1/2023, 21:55:50</td>\n",
              "      <td>304</td>\n",
              "      <td>12</td>\n",
              "      <td>20044</td>\n",
              "      <td>-469</td>\n",
              "      <td>-39</td>\n",
              "      <td>77</td>\n",
              "      <td>30.55</td>\n",
              "      <td>0</td>\n",
              "    </tr>\n",
              "  </tbody>\n",
              "</table>\n",
              "</div>\n",
              "      <button class=\"colab-df-convert\" onclick=\"convertToInteractive('df-deb43d68-f0b9-455d-987e-6e5c2e9d8eef')\"\n",
              "              title=\"Convert this dataframe to an interactive table.\"\n",
              "              style=\"display:none;\">\n",
              "        \n",
              "  <svg xmlns=\"http://www.w3.org/2000/svg\" height=\"24px\"viewBox=\"0 0 24 24\"\n",
              "       width=\"24px\">\n",
              "    <path d=\"M0 0h24v24H0V0z\" fill=\"none\"/>\n",
              "    <path d=\"M18.56 5.44l.94 2.06.94-2.06 2.06-.94-2.06-.94-.94-2.06-.94 2.06-2.06.94zm-11 1L8.5 8.5l.94-2.06 2.06-.94-2.06-.94L8.5 2.5l-.94 2.06-2.06.94zm10 10l.94 2.06.94-2.06 2.06-.94-2.06-.94-.94-2.06-.94 2.06-2.06.94z\"/><path d=\"M17.41 7.96l-1.37-1.37c-.4-.4-.92-.59-1.43-.59-.52 0-1.04.2-1.43.59L10.3 9.45l-7.72 7.72c-.78.78-.78 2.05 0 2.83L4 21.41c.39.39.9.59 1.41.59.51 0 1.02-.2 1.41-.59l7.78-7.78 2.81-2.81c.8-.78.8-2.07 0-2.86zM5.41 20L4 18.59l7.72-7.72 1.47 1.35L5.41 20z\"/>\n",
              "  </svg>\n",
              "      </button>\n",
              "      \n",
              "  <style>\n",
              "    .colab-df-container {\n",
              "      display:flex;\n",
              "      flex-wrap:wrap;\n",
              "      gap: 12px;\n",
              "    }\n",
              "\n",
              "    .colab-df-convert {\n",
              "      background-color: #E8F0FE;\n",
              "      border: none;\n",
              "      border-radius: 50%;\n",
              "      cursor: pointer;\n",
              "      display: none;\n",
              "      fill: #1967D2;\n",
              "      height: 32px;\n",
              "      padding: 0 0 0 0;\n",
              "      width: 32px;\n",
              "    }\n",
              "\n",
              "    .colab-df-convert:hover {\n",
              "      background-color: #E2EBFA;\n",
              "      box-shadow: 0px 1px 2px rgba(60, 64, 67, 0.3), 0px 1px 3px 1px rgba(60, 64, 67, 0.15);\n",
              "      fill: #174EA6;\n",
              "    }\n",
              "\n",
              "    [theme=dark] .colab-df-convert {\n",
              "      background-color: #3B4455;\n",
              "      fill: #D2E3FC;\n",
              "    }\n",
              "\n",
              "    [theme=dark] .colab-df-convert:hover {\n",
              "      background-color: #434B5C;\n",
              "      box-shadow: 0px 1px 3px 1px rgba(0, 0, 0, 0.15);\n",
              "      filter: drop-shadow(0px 1px 2px rgba(0, 0, 0, 0.3));\n",
              "      fill: #FFFFFF;\n",
              "    }\n",
              "  </style>\n",
              "\n",
              "      <script>\n",
              "        const buttonEl =\n",
              "          document.querySelector('#df-deb43d68-f0b9-455d-987e-6e5c2e9d8eef button.colab-df-convert');\n",
              "        buttonEl.style.display =\n",
              "          google.colab.kernel.accessAllowed ? 'block' : 'none';\n",
              "\n",
              "        async function convertToInteractive(key) {\n",
              "          const element = document.querySelector('#df-deb43d68-f0b9-455d-987e-6e5c2e9d8eef');\n",
              "          const dataTable =\n",
              "            await google.colab.kernel.invokeFunction('convertToInteractive',\n",
              "                                                     [key], {});\n",
              "          if (!dataTable) return;\n",
              "\n",
              "          const docLinkHtml = 'Like what you see? Visit the ' +\n",
              "            '<a target=\"_blank\" href=https://colab.research.google.com/notebooks/data_table.ipynb>data table notebook</a>'\n",
              "            + ' to learn more about interactive tables.';\n",
              "          element.innerHTML = '';\n",
              "          dataTable['output_type'] = 'display_data';\n",
              "          await google.colab.output.renderOutput(dataTable, element);\n",
              "          const docLink = document.createElement('div');\n",
              "          docLink.innerHTML = docLinkHtml;\n",
              "          element.appendChild(docLink);\n",
              "        }\n",
              "      </script>\n",
              "    </div>\n",
              "  </div>\n",
              "  "
            ]
          },
          "metadata": {},
          "execution_count": 10
        }
      ]
    },
    {
      "cell_type": "code",
      "source": [
        "data.shape"
      ],
      "metadata": {
        "colab": {
          "base_uri": "https://localhost:8080/"
        },
        "id": "0vNP6lfELMhX",
        "outputId": "0c6f59c8-01f4-4d00-f69c-09c3048a97d4"
      },
      "execution_count": null,
      "outputs": [
        {
          "output_type": "execute_result",
          "data": {
            "text/plain": [
              "(781, 9)"
            ]
          },
          "metadata": {},
          "execution_count": 11
        }
      ]
    },
    {
      "cell_type": "code",
      "source": [
        "df=data.drop([\"date\",\"Temperature\"],axis=1)"
      ],
      "metadata": {
        "id": "bPycF8USTaHR"
      },
      "execution_count": null,
      "outputs": []
    },
    {
      "cell_type": "code",
      "source": [
        "plt.figure(figsize=(12,7))\n",
        "sns.heatmap(df.corr(),annot=True,cmap='coolwarm')"
      ],
      "metadata": {
        "colab": {
          "base_uri": "https://localhost:8080/",
          "height": 628
        },
        "id": "8H2Ze1FDSh7Q",
        "outputId": "24a6786d-5cf9-418d-aea1-7c8227a74b35"
      },
      "execution_count": null,
      "outputs": [
        {
          "output_type": "execute_result",
          "data": {
            "text/plain": [
              "<Axes: >"
            ]
          },
          "metadata": {},
          "execution_count": 13
        },
        {
          "output_type": "display_data",
          "data": {
            "text/plain": [
              "<Figure size 1200x700 with 2 Axes>"
            ],
            "image/png": "[encoded data removed]"
          },
          "metadata": {}
        }
      ]
    },
    {
      "cell_type": "code",
      "source": [
        "df.isnull().sum()"
      ],
      "metadata": {
        "colab": {
          "base_uri": "https://localhost:8080/"
        },
        "id": "hAA8wq4NIKeH",
        "outputId": "fd024e4b-013a-4635-a77b-5b8c18d55eca"
      },
      "execution_count": null,
      "outputs": [
        {
          "output_type": "execute_result",
          "data": {
            "text/plain": [
              "AccX              0\n",
              "AccY              0\n",
              "AccZ              0\n",
              "GyrX              0\n",
              "GyrY              0\n",
              "GyrZ              0\n",
              "Fall_detection    0\n",
              "dtype: int64"
            ]
          },
          "metadata": {},
          "execution_count": 14
        }
      ]
    },
    {
      "cell_type": "code",
      "source": [
        "#df.dropna(subset=['AccX','AccY'], inplace=True)"
      ],
      "metadata": {
        "id": "j2__EzwUKgkP"
      },
      "execution_count": null,
      "outputs": []
    },
    {
      "cell_type": "code",
      "source": [
        "df.isnull().sum()"
      ],
      "metadata": {
        "colab": {
          "base_uri": "https://localhost:8080/"
        },
        "id": "5sMSazlHK0HO",
        "outputId": "16d8117d-f558-49fa-a0c5-94e2af2024f0"
      },
      "execution_count": null,
      "outputs": [
        {
          "output_type": "execute_result",
          "data": {
            "text/plain": [
              "AccX              0\n",
              "AccY              0\n",
              "AccZ              0\n",
              "GyrX              0\n",
              "GyrY              0\n",
              "GyrZ              0\n",
              "Fall_detection    0\n",
              "dtype: int64"
            ]
          },
          "metadata": {},
          "execution_count": 16
        }
      ]
    },
    {
      "cell_type": "code",
      "source": [
        "df.shape"
      ],
      "metadata": {
        "colab": {
          "base_uri": "https://localhost:8080/"
        },
        "id": "1E5GfJFyK4It",
        "outputId": "113c4e51-3989-4d54-a0ff-ace0a1fe2287"
      },
      "execution_count": null,
      "outputs": [
        {
          "output_type": "execute_result",
          "data": {
            "text/plain": [
              "(781, 7)"
            ]
          },
          "metadata": {},
          "execution_count": 17
        }
      ]
    },
    {
      "cell_type": "code",
      "source": [
        "df"
      ],
      "metadata": {
        "colab": {
          "base_uri": "https://localhost:8080/",
          "height": 423
        },
        "id": "c3O-zyjiVCXf",
        "outputId": "80971d13-0d6a-49f6-b9eb-f57aade49410"
      },
      "execution_count": null,
      "outputs": [
        {
          "output_type": "execute_result",
          "data": {
            "text/plain": [
              "      AccX  AccY   AccZ  GyrX  GyrY  GyrZ  Fall_detection\n",
              "0      132  -284  20228  -488    -3    60               0\n",
              "1      240   -92  19784  -489   -92    61               0\n",
              "2      200  -140  19928  -481   -69    35               0\n",
              "3      108   -44  20004  -498   -67    55               0\n",
              "4      304    12  20044  -469   -39    77               0\n",
              "..     ...   ...    ...   ...   ...   ...             ...\n",
              "776    432  -132  20020  -335 -3568  -145               0\n",
              "777   9040  -204  17708  -449  -913    42               1\n",
              "778   9820  -172  17112  -470  -472    41               1\n",
              "779   9924  -176  16952  -465  -233    65               1\n",
              "780  10044     0  17008  -455  -235    31               1\n",
              "\n",
              "[781 rows x 7 columns]"
            ],
            "text/html": [
              "\n",
              "  <div id=\"df-7e3cfbd5-431b-43e6-a729-d372d41544e1\">\n",
              "    <div class=\"colab-df-container\">\n",
              "      <div>\n",
              "<style scoped>\n",
              "    .dataframe tbody tr th:only-of-type {\n",
              "        vertical-align: middle;\n",
              "    }\n",
              "\n",
              "    .dataframe tbody tr th {\n",
              "        vertical-align: top;\n",
              "    }\n",
              "\n",
              "    .dataframe thead th {\n",
              "        text-align: right;\n",
              "    }\n",
              "</style>\n",
              "<table border=\"1\" class=\"dataframe\">\n",
              "  <thead>\n",
              "    <tr style=\"text-align: right;\">\n",
              "      <th></th>\n",
              "      <th>AccX</th>\n",
              "      <th>AccY</th>\n",
              "      <th>AccZ</th>\n",
              "      <th>GyrX</th>\n",
              "      <th>GyrY</th>\n",
              "      <th>GyrZ</th>\n",
              "      <th>Fall_detection</th>\n",
              "    </tr>\n",
              "  </thead>\n",
              "  <tbody>\n",
              "    <tr>\n",
              "      <th>0</th>\n",
              "      <td>132</td>\n",
              "      <td>-284</td>\n",
              "      <td>20228</td>\n",
              "      <td>-488</td>\n",
              "      <td>-3</td>\n",
              "      <td>60</td>\n",
              "      <td>0</td>\n",
              "    </tr>\n",
              "    <tr>\n",
              "      <th>1</th>\n",
              "      <td>240</td>\n",
              "      <td>-92</td>\n",
              "      <td>19784</td>\n",
              "      <td>-489</td>\n",
              "      <td>-92</td>\n",
              "      <td>61</td>\n",
              "      <td>0</td>\n",
              "    </tr>\n",
              "    <tr>\n",
              "      <th>2</th>\n",
              "      <td>200</td>\n",
              "      <td>-140</td>\n",
              "      <td>19928</td>\n",
              "      <td>-481</td>\n",
              "      <td>-69</td>\n",
              "      <td>35</td>\n",
              "      <td>0</td>\n",
              "    </tr>\n",
              "    <tr>\n",
              "      <th>3</th>\n",
              "      <td>108</td>\n",
              "      <td>-44</td>\n",
              "      <td>20004</td>\n",
              "      <td>-498</td>\n",
              "      <td>-67</td>\n",
              "      <td>55</td>\n",
              "      <td>0</td>\n",
              "    </tr>\n",
              "    <tr>\n",
              "      <th>4</th>\n",
              "      <td>304</td>\n",
              "      <td>12</td>\n",
              "      <td>20044</td>\n",
              "      <td>-469</td>\n",
              "      <td>-39</td>\n",
              "      <td>77</td>\n",
              "      <td>0</td>\n",
              "    </tr>\n",
              "    <tr>\n",
              "      <th>...</th>\n",
              "      <td>...</td>\n",
              "      <td>...</td>\n",
              "      <td>...</td>\n",
              "      <td>...</td>\n",
              "      <td>...</td>\n",
              "      <td>...</td>\n",
              "      <td>...</td>\n",
              "    </tr>\n",
              "    <tr>\n",
              "      <th>776</th>\n",
              "      <td>432</td>\n",
              "      <td>-132</td>\n",
              "      <td>20020</td>\n",
              "      <td>-335</td>\n",
              "      <td>-3568</td>\n",
              "      <td>-145</td>\n",
              "      <td>0</td>\n",
              "    </tr>\n",
              "    <tr>\n",
              "      <th>777</th>\n",
              "      <td>9040</td>\n",
              "      <td>-204</td>\n",
              "      <td>17708</td>\n",
              "      <td>-449</td>\n",
              "      <td>-913</td>\n",
              "      <td>42</td>\n",
              "      <td>1</td>\n",
              "    </tr>\n",
              "    <tr>\n",
              "      <th>778</th>\n",
              "      <td>9820</td>\n",
              "      <td>-172</td>\n",
              "      <td>17112</td>\n",
              "      <td>-470</td>\n",
              "      <td>-472</td>\n",
              "      <td>41</td>\n",
              "      <td>1</td>\n",
              "    </tr>\n",
              "    <tr>\n",
              "      <th>779</th>\n",
              "      <td>9924</td>\n",
              "      <td>-176</td>\n",
              "      <td>16952</td>\n",
              "      <td>-465</td>\n",
              "      <td>-233</td>\n",
              "      <td>65</td>\n",
              "      <td>1</td>\n",
              "    </tr>\n",
              "    <tr>\n",
              "      <th>780</th>\n",
              "      <td>10044</td>\n",
              "      <td>0</td>\n",
              "      <td>17008</td>\n",
              "      <td>-455</td>\n",
              "      <td>-235</td>\n",
              "      <td>31</td>\n",
              "      <td>1</td>\n",
              "    </tr>\n",
              "  </tbody>\n",
              "</table>\n",
              "<p>781 rows × 7 columns</p>\n",
              "</div>\n",
              "      <button class=\"colab-df-convert\" onclick=\"convertToInteractive('df-7e3cfbd5-431b-43e6-a729-d372d41544e1')\"\n",
              "              title=\"Convert this dataframe to an interactive table.\"\n",
              "              style=\"display:none;\">\n",
              "        \n",
              "  <svg xmlns=\"http://www.w3.org/2000/svg\" height=\"24px\"viewBox=\"0 0 24 24\"\n",
              "       width=\"24px\">\n",
              "    <path d=\"M0 0h24v24H0V0z\" fill=\"none\"/>\n",
              "    <path d=\"M18.56 5.44l.94 2.06.94-2.06 2.06-.94-2.06-.94-.94-2.06-.94 2.06-2.06.94zm-11 1L8.5 8.5l.94-2.06 2.06-.94-2.06-.94L8.5 2.5l-.94 2.06-2.06.94zm10 10l.94 2.06.94-2.06 2.06-.94-2.06-.94-.94-2.06-.94 2.06-2.06.94z\"/><path d=\"M17.41 7.96l-1.37-1.37c-.4-.4-.92-.59-1.43-.59-.52 0-1.04.2-1.43.59L10.3 9.45l-7.72 7.72c-.78.78-.78 2.05 0 2.83L4 21.41c.39.39.9.59 1.41.59.51 0 1.02-.2 1.41-.59l7.78-7.78 2.81-2.81c.8-.78.8-2.07 0-2.86zM5.41 20L4 18.59l7.72-7.72 1.47 1.35L5.41 20z\"/>\n",
              "  </svg>\n",
              "      </button>\n",
              "      \n",
              "  <style>\n",
              "    .colab-df-container {\n",
              "      display:flex;\n",
              "      flex-wrap:wrap;\n",
              "      gap: 12px;\n",
              "    }\n",
              "\n",
              "    .colab-df-convert {\n",
              "      background-color: #E8F0FE;\n",
              "      border: none;\n",
              "      border-radius: 50%;\n",
              "      cursor: pointer;\n",
              "      display: none;\n",
              "      fill: #1967D2;\n",
              "      height: 32px;\n",
              "      padding: 0 0 0 0;\n",
              "      width: 32px;\n",
              "    }\n",
              "\n",
              "    .colab-df-convert:hover {\n",
              "      background-color: #E2EBFA;\n",
              "      box-shadow: 0px 1px 2px rgba(60, 64, 67, 0.3), 0px 1px 3px 1px rgba(60, 64, 67, 0.15);\n",
              "      fill: #174EA6;\n",
              "    }\n",
              "\n",
              "    [theme=dark] .colab-df-convert {\n",
              "      background-color: #3B4455;\n",
              "      fill: #D2E3FC;\n",
              "    }\n",
              "\n",
              "    [theme=dark] .colab-df-convert:hover {\n",
              "      background-color: #434B5C;\n",
              "      box-shadow: 0px 1px 3px 1px rgba(0, 0, 0, 0.15);\n",
              "      filter: drop-shadow(0px 1px 2px rgba(0, 0, 0, 0.3));\n",
              "      fill: #FFFFFF;\n",
              "    }\n",
              "  </style>\n",
              "\n",
              "      <script>\n",
              "        const buttonEl =\n",
              "          document.querySelector('#df-7e3cfbd5-431b-43e6-a729-d372d41544e1 button.colab-df-convert');\n",
              "        buttonEl.style.display =\n",
              "          google.colab.kernel.accessAllowed ? 'block' : 'none';\n",
              "\n",
              "        async function convertToInteractive(key) {\n",
              "          const element = document.querySelector('#df-7e3cfbd5-431b-43e6-a729-d372d41544e1');\n",
              "          const dataTable =\n",
              "            await google.colab.kernel.invokeFunction('convertToInteractive',\n",
              "                                                     [key], {});\n",
              "          if (!dataTable) return;\n",
              "\n",
              "          const docLinkHtml = 'Like what you see? Visit the ' +\n",
              "            '<a target=\"_blank\" href=https://colab.research.google.com/notebooks/data_table.ipynb>data table notebook</a>'\n",
              "            + ' to learn more about interactive tables.';\n",
              "          element.innerHTML = '';\n",
              "          dataTable['output_type'] = 'display_data';\n",
              "          await google.colab.output.renderOutput(dataTable, element);\n",
              "          const docLink = document.createElement('div');\n",
              "          docLink.innerHTML = docLinkHtml;\n",
              "          element.appendChild(docLink);\n",
              "        }\n",
              "      </script>\n",
              "    </div>\n",
              "  </div>\n",
              "  "
            ]
          },
          "metadata": {},
          "execution_count": 18
        }
      ]
    },
    {
      "cell_type": "code",
      "source": [
        "'''Q1=df.quantile(0.25)\n",
        "Q3=df.quantile(0.75)\n",
        "IQR=Q3-Q1\n",
        "df=df[~((df<(Q1-1.5*IQR))|(df>(Q3+1.5*IQR))).any(axis=1)]'''"
      ],
      "metadata": {
        "id": "X_iZ60OyTcwW",
        "colab": {
          "base_uri": "https://localhost:8080/",
          "height": 35
        },
        "outputId": "e09820d8-3c00-478d-c6bb-1ec41cf09a11"
      },
      "execution_count": null,
      "outputs": [
        {
          "output_type": "execute_result",
          "data": {
            "text/plain": [
              "'Q1=df.quantile(0.25)\\nQ3=df.quantile(0.75)\\nIQR=Q3-Q1\\ndf=df[~((df<(Q1-1.5*IQR))|(df>(Q3+1.5*IQR))).any(axis=1)]'"
            ],
            "application/vnd.google.colaboratory.intrinsic+json": {
              "type": "string"
            }
          },
          "metadata": {},
          "execution_count": 19
        }
      ]
    },
    {
      "cell_type": "code",
      "source": [
        "df"
      ],
      "metadata": {
        "colab": {
          "base_uri": "https://localhost:8080/",
          "height": 423
        },
        "id": "sD3TI4wECzC8",
        "outputId": "ce52dd90-9282-44b7-e4fe-dc8ad39f7d27"
      },
      "execution_count": null,
      "outputs": [
        {
          "output_type": "execute_result",
          "data": {
            "text/plain": [
              "      AccX  AccY   AccZ  GyrX  GyrY  GyrZ  Fall_detection\n",
              "0      132  -284  20228  -488    -3    60               0\n",
              "1      240   -92  19784  -489   -92    61               0\n",
              "2      200  -140  19928  -481   -69    35               0\n",
              "3      108   -44  20004  -498   -67    55               0\n",
              "4      304    12  20044  -469   -39    77               0\n",
              "..     ...   ...    ...   ...   ...   ...             ...\n",
              "776    432  -132  20020  -335 -3568  -145               0\n",
              "777   9040  -204  17708  -449  -913    42               1\n",
              "778   9820  -172  17112  -470  -472    41               1\n",
              "779   9924  -176  16952  -465  -233    65               1\n",
              "780  10044     0  17008  -455  -235    31               1\n",
              "\n",
              "[781 rows x 7 columns]"
            ],
            "text/html": [
              "\n",
              "  <div id=\"df-622bf676-4eec-401c-9b80-12f423260bd9\">\n",
              "    <div class=\"colab-df-container\">\n",
              "      <div>\n",
              "<style scoped>\n",
              "    .dataframe tbody tr th:only-of-type {\n",
              "        vertical-align: middle;\n",
              "    }\n",
              "\n",
              "    .dataframe tbody tr th {\n",
              "        vertical-align: top;\n",
              "    }\n",
              "\n",
              "    .dataframe thead th {\n",
              "        text-align: right;\n",
              "    }\n",
              "</style>\n",
              "<table border=\"1\" class=\"dataframe\">\n",
              "  <thead>\n",
              "    <tr style=\"text-align: right;\">\n",
              "      <th></th>\n",
              "      <th>AccX</th>\n",
              "      <th>AccY</th>\n",
              "      <th>AccZ</th>\n",
              "      <th>GyrX</th>\n",
              "      <th>GyrY</th>\n",
              "      <th>GyrZ</th>\n",
              "      <th>Fall_detection</th>\n",
              "    </tr>\n",
              "  </thead>\n",
              "  <tbody>\n",
              "    <tr>\n",
              "      <th>0</th>\n",
              "      <td>132</td>\n",
              "      <td>-284</td>\n",
              "      <td>20228</td>\n",
              "      <td>-488</td>\n",
              "      <td>-3</td>\n",
              "      <td>60</td>\n",
              "      <td>0</td>\n",
              "    </tr>\n",
              "    <tr>\n",
              "      <th>1</th>\n",
              "      <td>240</td>\n",
              "      <td>-92</td>\n",
              "      <td>19784</td>\n",
              "      <td>-489</td>\n",
              "      <td>-92</td>\n",
              "      <td>61</td>\n",
              "      <td>0</td>\n",
              "    </tr>\n",
              "    <tr>\n",
              "      <th>2</th>\n",
              "      <td>200</td>\n",
              "      <td>-140</td>\n",
              "      <td>19928</td>\n",
              "      <td>-481</td>\n",
              "      <td>-69</td>\n",
              "      <td>35</td>\n",
              "      <td>0</td>\n",
              "    </tr>\n",
              "    <tr>\n",
              "      <th>3</th>\n",
              "      <td>108</td>\n",
              "      <td>-44</td>\n",
              "      <td>20004</td>\n",
              "      <td>-498</td>\n",
              "      <td>-67</td>\n",
              "      <td>55</td>\n",
              "      <td>0</td>\n",
              "    </tr>\n",
              "    <tr>\n",
              "      <th>4</th>\n",
              "      <td>304</td>\n",
              "      <td>12</td>\n",
              "      <td>20044</td>\n",
              "      <td>-469</td>\n",
              "      <td>-39</td>\n",
              "      <td>77</td>\n",
              "      <td>0</td>\n",
              "    </tr>\n",
              "    <tr>\n",
              "      <th>...</th>\n",
              "      <td>...</td>\n",
              "      <td>...</td>\n",
              "      <td>...</td>\n",
              "      <td>...</td>\n",
              "      <td>...</td>\n",
              "      <td>...</td>\n",
              "      <td>...</td>\n",
              "    </tr>\n",
              "    <tr>\n",
              "      <th>776</th>\n",
              "      <td>432</td>\n",
              "      <td>-132</td>\n",
              "      <td>20020</td>\n",
              "      <td>-335</td>\n",
              "      <td>-3568</td>\n",
              "      <td>-145</td>\n",
              "      <td>0</td>\n",
              "    </tr>\n",
              "    <tr>\n",
              "      <th>777</th>\n",
              "      <td>9040</td>\n",
              "      <td>-204</td>\n",
              "      <td>17708</td>\n",
              "      <td>-449</td>\n",
              "      <td>-913</td>\n",
              "      <td>42</td>\n",
              "      <td>1</td>\n",
              "    </tr>\n",
              "    <tr>\n",
              "      <th>778</th>\n",
              "      <td>9820</td>\n",
              "      <td>-172</td>\n",
              "      <td>17112</td>\n",
              "      <td>-470</td>\n",
              "      <td>-472</td>\n",
              "      <td>41</td>\n",
              "      <td>1</td>\n",
              "    </tr>\n",
              "    <tr>\n",
              "      <th>779</th>\n",
              "      <td>9924</td>\n",
              "      <td>-176</td>\n",
              "      <td>16952</td>\n",
              "      <td>-465</td>\n",
              "      <td>-233</td>\n",
              "      <td>65</td>\n",
              "      <td>1</td>\n",
              "    </tr>\n",
              "    <tr>\n",
              "      <th>780</th>\n",
              "      <td>10044</td>\n",
              "      <td>0</td>\n",
              "      <td>17008</td>\n",
              "      <td>-455</td>\n",
              "      <td>-235</td>\n",
              "      <td>31</td>\n",
              "      <td>1</td>\n",
              "    </tr>\n",
              "  </tbody>\n",
              "</table>\n",
              "<p>781 rows × 7 columns</p>\n",
              "</div>\n",
              "      <button class=\"colab-df-convert\" onclick=\"convertToInteractive('df-622bf676-4eec-401c-9b80-12f423260bd9')\"\n",
              "              title=\"Convert this dataframe to an interactive table.\"\n",
              "              style=\"display:none;\">\n",
              "        \n",
              "  <svg xmlns=\"http://www.w3.org/2000/svg\" height=\"24px\"viewBox=\"0 0 24 24\"\n",
              "       width=\"24px\">\n",
              "    <path d=\"M0 0h24v24H0V0z\" fill=\"none\"/>\n",
              "    <path d=\"M18.56 5.44l.94 2.06.94-2.06 2.06-.94-2.06-.94-.94-2.06-.94 2.06-2.06.94zm-11 1L8.5 8.5l.94-2.06 2.06-.94-2.06-.94L8.5 2.5l-.94 2.06-2.06.94zm10 10l.94 2.06.94-2.06 2.06-.94-2.06-.94-.94-2.06-.94 2.06-2.06.94z\"/><path d=\"M17.41 7.96l-1.37-1.37c-.4-.4-.92-.59-1.43-.59-.52 0-1.04.2-1.43.59L10.3 9.45l-7.72 7.72c-.78.78-.78 2.05 0 2.83L4 21.41c.39.39.9.59 1.41.59.51 0 1.02-.2 1.41-.59l7.78-7.78 2.81-2.81c.8-.78.8-2.07 0-2.86zM5.41 20L4 18.59l7.72-7.72 1.47 1.35L5.41 20z\"/>\n",
              "  </svg>\n",
              "      </button>\n",
              "      \n",
              "  <style>\n",
              "    .colab-df-container {\n",
              "      display:flex;\n",
              "      flex-wrap:wrap;\n",
              "      gap: 12px;\n",
              "    }\n",
              "\n",
              "    .colab-df-convert {\n",
              "      background-color: #E8F0FE;\n",
              "      border: none;\n",
              "      border-radius: 50%;\n",
              "      cursor: pointer;\n",
              "      display: none;\n",
              "      fill: #1967D2;\n",
              "      height: 32px;\n",
              "      padding: 0 0 0 0;\n",
              "      width: 32px;\n",
              "    }\n",
              "\n",
              "    .colab-df-convert:hover {\n",
              "      background-color: #E2EBFA;\n",
              "      box-shadow: 0px 1px 2px rgba(60, 64, 67, 0.3), 0px 1px 3px 1px rgba(60, 64, 67, 0.15);\n",
              "      fill: #174EA6;\n",
              "    }\n",
              "\n",
              "    [theme=dark] .colab-df-convert {\n",
              "      background-color: #3B4455;\n",
              "      fill: #D2E3FC;\n",
              "    }\n",
              "\n",
              "    [theme=dark] .colab-df-convert:hover {\n",
              "      background-color: #434B5C;\n",
              "      box-shadow: 0px 1px 3px 1px rgba(0, 0, 0, 0.15);\n",
              "      filter: drop-shadow(0px 1px 2px rgba(0, 0, 0, 0.3));\n",
              "      fill: #FFFFFF;\n",
              "    }\n",
              "  </style>\n",
              "\n",
              "      <script>\n",
              "        const buttonEl =\n",
              "          document.querySelector('#df-622bf676-4eec-401c-9b80-12f423260bd9 button.colab-df-convert');\n",
              "        buttonEl.style.display =\n",
              "          google.colab.kernel.accessAllowed ? 'block' : 'none';\n",
              "\n",
              "        async function convertToInteractive(key) {\n",
              "          const element = document.querySelector('#df-622bf676-4eec-401c-9b80-12f423260bd9');\n",
              "          const dataTable =\n",
              "            await google.colab.kernel.invokeFunction('convertToInteractive',\n",
              "                                                     [key], {});\n",
              "          if (!dataTable) return;\n",
              "\n",
              "          const docLinkHtml = 'Like what you see? Visit the ' +\n",
              "            '<a target=\"_blank\" href=https://colab.research.google.com/notebooks/data_table.ipynb>data table notebook</a>'\n",
              "            + ' to learn more about interactive tables.';\n",
              "          element.innerHTML = '';\n",
              "          dataTable['output_type'] = 'display_data';\n",
              "          await google.colab.output.renderOutput(dataTable, element);\n",
              "          const docLink = document.createElement('div');\n",
              "          docLink.innerHTML = docLinkHtml;\n",
              "          element.appendChild(docLink);\n",
              "        }\n",
              "      </script>\n",
              "    </div>\n",
              "  </div>\n",
              "  "
            ]
          },
          "metadata": {},
          "execution_count": 20
        }
      ]
    },
    {
      "cell_type": "code",
      "source": [
        "'''df.AccX=np.sqrt(df.AccX)\n",
        "df.AccY=np.sqrt(df.AccY)\n",
        "df.AccZ=np.sqrt(df.AccZ)'''"
      ],
      "metadata": {
        "id": "8SB3S4MWThj2",
        "colab": {
          "base_uri": "https://localhost:8080/",
          "height": 35
        },
        "outputId": "79ea11ab-9b1e-45d3-d1c6-851a43f1a07e"
      },
      "execution_count": null,
      "outputs": [
        {
          "output_type": "execute_result",
          "data": {
            "text/plain": [
              "'df.AccX=np.sqrt(df.AccX)\\ndf.AccY=np.sqrt(df.AccY)\\ndf.AccZ=np.sqrt(df.AccZ)'"
            ],
            "application/vnd.google.colaboratory.intrinsic+json": {
              "type": "string"
            }
          },
          "metadata": {},
          "execution_count": 21
        }
      ]
    },
    {
      "cell_type": "code",
      "source": [
        "df.info()"
      ],
      "metadata": {
        "colab": {
          "base_uri": "https://localhost:8080/"
        },
        "id": "x4p9X7qrEQKm",
        "outputId": "c2c9aa52-59d6-4b40-89cc-ff0ccf47d887"
      },
      "execution_count": null,
      "outputs": [
        {
          "output_type": "stream",
          "name": "stdout",
          "text": [
            "<class 'pandas.core.frame.DataFrame'>\n",
            "RangeIndex: 781 entries, 0 to 780\n",
            "Data columns (total 7 columns):\n",
            " #   Column          Non-Null Count  Dtype\n",
            "---  ------          --------------  -----\n",
            " 0   AccX            781 non-null    int64\n",
            " 1   AccY            781 non-null    int64\n",
            " 2   AccZ            781 non-null    int64\n",
            " 3   GyrX            781 non-null    int64\n",
            " 4   GyrY            781 non-null    int64\n",
            " 5   GyrZ            781 non-null    int64\n",
            " 6   Fall_detection  781 non-null    int64\n",
            "dtypes: int64(7)\n",
            "memory usage: 42.8 KB\n"
          ]
        }
      ]
    },
    {
      "cell_type": "code",
      "source": [
        "sns.set(style=\"darkgrid\")\n",
        "fig,axs=plt.subplots(2,3,figsize=(20,8))\n",
        "sns.histplot(data=df,x=\"AccX\",kde=True,ax=axs[0,0],color='green')\n",
        "sns.histplot(data=df,x=\"AccY\",kde=True,ax=axs[0,1],color='red')\n",
        "sns.histplot(data=df,x=\"AccZ\",kde=True,ax=axs[0,2],color='skyblue')\n",
        "sns.histplot(data=df,x=\"GyrX\",kde=True,ax=axs[1,0],color='green')\n",
        "sns.histplot(data=df,x=\"GyrY\",kde=True,ax=axs[1,1],color='red')\n",
        "sns.histplot(data=df,x=\"GyrZ\",kde=True,ax=axs[1,2],color='skyblue')"
      ],
      "metadata": {
        "colab": {
          "base_uri": "https://localhost:8080/",
          "height": 624
        },
        "id": "TEJGoiyYUI6p",
        "outputId": "cce0036b-21ea-414b-830a-39fbdc992b3c"
      },
      "execution_count": null,
      "outputs": [
        {
          "output_type": "execute_result",
          "data": {
            "text/plain": [
              "<Axes: xlabel='GyrZ', ylabel='Count'>"
            ]
          },
          "metadata": {},
          "execution_count": 23
        },
        {
          "output_type": "display_data",
          "data": {
            "text/plain": [
              "<Figure size 2000x800 with 6 Axes>"
            ],
            "image/png": "[encoded data removed]"
          },
          "metadata": {}
        }
      ]
    },
    {
      "cell_type": "code",
      "source": [
        "#x=df.drop(columns=['Fall_detection'], axis=1).values\n",
        "x=((df.loc[:,df.columns!=\"Fall_detection\"]).astype(float)).values[:,0:]\n",
        "y=df['Fall_detection'].values.reshape(-1, 1)"
      ],
      "metadata": {
        "id": "OtM2UoYuVngs"
      },
      "execution_count": null,
      "outputs": []
    },
    {
      "cell_type": "code",
      "source": [
        "x.shape, y.shape"
      ],
      "metadata": {
        "colab": {
          "base_uri": "https://localhost:8080/"
        },
        "id": "-3PJluQGWeTg",
        "outputId": "6a5a9764-8b95-4e06-c16c-6accd37383e7"
      },
      "execution_count": null,
      "outputs": [
        {
          "output_type": "execute_result",
          "data": {
            "text/plain": [
              "((781, 6), (781, 1))"
            ]
          },
          "metadata": {},
          "execution_count": 25
        }
      ]
    },
    {
      "cell_type": "code",
      "source": [
        "df.Fall_detection.unique()"
      ],
      "metadata": {
        "colab": {
          "base_uri": "https://localhost:8080/"
        },
        "id": "0buJ3MlwFzSV",
        "outputId": "4b26610f-2b6e-4bfe-c859-c4ca1d06bbca"
      },
      "execution_count": null,
      "outputs": [
        {
          "output_type": "execute_result",
          "data": {
            "text/plain": [
              "array([0, 2, 3, 4, 1])"
            ]
          },
          "metadata": {},
          "execution_count": 26
        }
      ]
    },
    {
      "cell_type": "code",
      "source": [
        "x_train,x_test,y_train,y_test=train_test_split(x,y,test_size=0.1,random_state=2)"
      ],
      "metadata": {
        "id": "fxxPBXs-F_wi"
      },
      "execution_count": null,
      "outputs": []
    },
    {
      "cell_type": "code",
      "source": [
        "x_train.shape, x_test.shape, y_train.shape, y_test.shape"
      ],
      "metadata": {
        "colab": {
          "base_uri": "https://localhost:8080/"
        },
        "id": "RMc_tBnE0l5D",
        "outputId": "ebc472c8-396f-452a-9397-cfb7311bff68"
      },
      "execution_count": null,
      "outputs": [
        {
          "output_type": "execute_result",
          "data": {
            "text/plain": [
              "((702, 6), (79, 6), (702, 1), (79, 1))"
            ]
          },
          "metadata": {},
          "execution_count": 29
        }
      ]
    },
    {
      "cell_type": "code",
      "source": [
        "x_train.dtype,x_test.dtype,y_train.dtype,y_test.dtype"
      ],
      "metadata": {
        "id": "DcFac8FyXp0Y",
        "colab": {
          "base_uri": "https://localhost:8080/"
        },
        "outputId": "e22d53a8-29f7-4725-d93b-fa2bf15664d7"
      },
      "execution_count": null,
      "outputs": [
        {
          "output_type": "execute_result",
          "data": {
            "text/plain": [
              "(dtype('float64'), dtype('float64'), dtype('int64'), dtype('int64'))"
            ]
          },
          "metadata": {},
          "execution_count": 30
        }
      ]
    },
    {
      "cell_type": "code",
      "source": [
        "knn=KNeighborsClassifier()\n",
        "knn.fit(x_train,y_train)\n",
        "print(\"KNN Accuracy:{:.2f}%\".format(knn.score(x_test,y_test)*100))"
      ],
      "metadata": {
        "id": "DqJAkOb0Wmk_",
        "colab": {
          "base_uri": "https://localhost:8080/"
        },
        "outputId": "071c20da-b6f2-49d1-83bb-e67ed7efff45"
      },
      "execution_count": null,
      "outputs": [
        {
          "output_type": "stream",
          "name": "stdout",
          "text": [
            "KNN Accuracy:92.41%\n"
          ]
        }
      ]
    },
    {
      "cell_type": "code",
      "source": [
        "svm=SVC()\n",
        "svm.fit(x_train,y_train)\n",
        "print(\"SVM Accuracy:{:.2f}%\".format(svm.score(x_test,y_test)*100))"
      ],
      "metadata": {
        "id": "dWxtq-r0XBZj",
        "colab": {
          "base_uri": "https://localhost:8080/"
        },
        "outputId": "e17c7888-213e-4f00-b8c3-28b767859f75"
      },
      "execution_count": null,
      "outputs": [
        {
          "output_type": "stream",
          "name": "stdout",
          "text": [
            "SVM Accuracy:89.87%\n"
          ]
        }
      ]
    },
    {
      "cell_type": "code",
      "source": [
        "gbc=GradientBoostingClassifier(subsample=0.5,n_estimators=250,max_depth=5,max_leaf_nodes=25)\n",
        "gbc.fit(x_train,y_train)\n",
        "print(\"Gradient Boosting Accuracy:{:.2f}%\".format(gbc.score(x_test,y_test)*100))"
      ],
      "metadata": {
        "id": "L5jpVi1YXEA2",
        "colab": {
          "base_uri": "https://localhost:8080/"
        },
        "outputId": "e9a7e779-0afb-4c3e-da6a-f1b8ed998bca"
      },
      "execution_count": null,
      "outputs": [
        {
          "output_type": "stream",
          "name": "stdout",
          "text": [
            "Gradient Boosting Accuracy:94.94%\n"
          ]
        }
      ]
    },
    {
      "cell_type": "code",
      "source": [
        "import warnings\n",
        "warnings.filterwarnings('ignore')\n",
        "xgb=XGBClassifier()\n",
        "xgb.fit(x_train,y_train)\n",
        "print(\"XGB Accuracy:{:.2f}%\".format(xgb.score(x_test,y_test)*100))"
      ],
      "metadata": {
        "id": "PHQEsh-hXF_F",
        "colab": {
          "base_uri": "https://localhost:8080/"
        },
        "outputId": "271805dc-aa02-4523-9b97-909d9b9f044b"
      },
      "execution_count": null,
      "outputs": [
        {
          "output_type": "stream",
          "name": "stdout",
          "text": [
            "XGB Accuracy:94.94%\n"
          ]
        }
      ]
    },
    {
      "cell_type": "code",
      "source": [
        "input=[[200,\t-140,\t19928,\t-481,\t-69,\t35]]\n",
        "ot=xgb.predict(input)\n",
        "print(\"The weather is:\")\n",
        "if(ot==0):\n",
        "    print(\"Normal\")\n",
        "elif(ot==1):\n",
        "    print(\"Fall_front\")\n",
        "elif(ot==2):\n",
        "    print(\"Fall_back\")\n",
        "elif(ot==3):\n",
        "    print(\"Fall_left\")\n",
        "else:\n",
        "    print(\"Fall_right\")"
      ],
      "metadata": {
        "id": "Pir659cIXH_z",
        "colab": {
          "base_uri": "https://localhost:8080/"
        },
        "outputId": "b080b63e-7202-44ec-ae03-abe7fb0247a8"
      },
      "execution_count": null,
      "outputs": [
        {
          "output_type": "stream",
          "name": "stdout",
          "text": [
            "The weather is:\n",
            "Normal\n"
          ]
        }
      ]
    }
  ]
}